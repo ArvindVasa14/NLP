{
 "cells": [
  {
   "cell_type": "markdown",
   "id": "84002a67-c969-477d-a4a3-24dd99456e24",
   "metadata": {},
   "source": [
    "# Amazon Fine Food Reviews Analysis\n",
    "### Context\n",
    "This dataset consists of reviews of fine foods from amazon. The data span a period of more than 10 years, including all ~500,000 reviews up to October 2012. Reviews include product and user information, ratings, and a plain text review. It also includes reviews from all other Amazon categories.\n",
    "\n",
    "###### Information about dataset\n",
    "###### Reviews from Oct 1999 - Oct 2012\n",
    "###### 568,454 reviews\n",
    "###### 256,059 users\n",
    "###### 74,258 products\n",
    "###### 260 users with > 50 reviews\n",
    "\n",
    "## Attribution Information\n",
    "1. ID\n",
    "2. ProductId\n",
    "3. UserId\n",
    "4. ProfileName\n",
    "5. HelpfulnessNumerator - Number of users who found the review helpful\n",
    "6. HelpfulnessDenominator - Number of users who indicated whether they found the review helpful or not\n",
    "7. Score - Rating between 1 and 5 ****\n",
    "8. Time - Timestamp for the review\n",
    "9. Summary - Brief summary of the review\n",
    "10. Text - Text of the review *****\n"
   ]
  },
  {
   "cell_type": "code",
   "execution_count": 1,
   "id": "4ece6f13-f4fc-45ea-a43d-37c4af7234e9",
   "metadata": {},
   "outputs": [
    {
     "name": "stderr",
     "output_type": "stream",
     "text": [
      "C:\\Users\\Arvind Vasa\\AppData\\Local\\Temp\\ipykernel_23060\\1695053793.py:3: DeprecationWarning: \n",
      "Pyarrow will become a required dependency of pandas in the next major release of pandas (pandas 3.0),\n",
      "(to allow more performant data types, such as the Arrow string type, and better interoperability with other libraries)\n",
      "but was not found to be installed on your system.\n",
      "If this would cause problems for you,\n",
      "please provide us feedback at https://github.com/pandas-dev/pandas/issues/54466\n",
      "        \n",
      "  import pandas as pd\n"
     ]
    }
   ],
   "source": [
    "import os, sys\n",
    "import numpy as np\n",
    "import pandas as pd\n",
    "import matplotlib.pyplot as plt\n",
    "%matplotlib inline\n",
    "import seaborn as sns\n",
    "sns.set()\n",
    "import warnings\n",
    "warnings.filterwarnings('ignore')"
   ]
  },
  {
   "cell_type": "code",
   "execution_count": 2,
   "id": "aed6da0b-8777-4431-9a19-2235a3f01987",
   "metadata": {},
   "outputs": [],
   "source": [
    "import nltk\n",
    "import string\n",
    "import sqlite3\n",
    "from sklearn.feature_extraction.text import CountVectorizer, TfidfVectorizer, TfidfTransformer\n",
    "from nltk.stem.porter import PorterStemmer\n",
    "from nltk.stem.wordnet import WordNetLemmatizer\n",
    "from nltk.corpus import stopwords"
   ]
  },
  {
   "cell_type": "code",
   "execution_count": 3,
   "id": "8fb9731d-e927-4684-960b-a19580437bf1",
   "metadata": {},
   "outputs": [],
   "source": [
    "from sklearn.metrics import accuracy_score, confusion_matrix, classification_report"
   ]
  },
  {
   "cell_type": "code",
   "execution_count": 4,
   "id": "657ff6c9-a705-4e81-8573-fc47466bd062",
   "metadata": {},
   "outputs": [
    {
     "data": {
      "text/plain": [
       "<sqlite3.Connection at 0x1c45ea3ba40>"
      ]
     },
     "execution_count": 4,
     "metadata": {},
     "output_type": "execute_result"
    }
   ],
   "source": [
    "con= sqlite3.connect(r\"F:\\AI-ML\\Adv Ai&ML WKDY-MR 2023\\4. NLP\\5th April 2023\\database.sqlite\")\n",
    "con"
   ]
  },
  {
   "cell_type": "code",
   "execution_count": 5,
   "id": "a7c39632-6ca4-457c-bcde-f22e6d7ac7a9",
   "metadata": {},
   "outputs": [
    {
     "data": {
      "text/html": [
       "<div>\n",
       "<style scoped>\n",
       "    .dataframe tbody tr th:only-of-type {\n",
       "        vertical-align: middle;\n",
       "    }\n",
       "\n",
       "    .dataframe tbody tr th {\n",
       "        vertical-align: top;\n",
       "    }\n",
       "\n",
       "    .dataframe thead th {\n",
       "        text-align: right;\n",
       "    }\n",
       "</style>\n",
       "<table border=\"1\" class=\"dataframe\">\n",
       "  <thead>\n",
       "    <tr style=\"text-align: right;\">\n",
       "      <th></th>\n",
       "      <th>Id</th>\n",
       "      <th>ProductId</th>\n",
       "      <th>UserId</th>\n",
       "      <th>ProfileName</th>\n",
       "      <th>HelpfulnessNumerator</th>\n",
       "      <th>HelpfulnessDenominator</th>\n",
       "      <th>Score</th>\n",
       "      <th>Time</th>\n",
       "      <th>Summary</th>\n",
       "      <th>Text</th>\n",
       "    </tr>\n",
       "  </thead>\n",
       "  <tbody>\n",
       "    <tr>\n",
       "      <th>0</th>\n",
       "      <td>1</td>\n",
       "      <td>B001E4KFG0</td>\n",
       "      <td>A3SGXH7AUHU8GW</td>\n",
       "      <td>delmartian</td>\n",
       "      <td>1</td>\n",
       "      <td>1</td>\n",
       "      <td>5</td>\n",
       "      <td>1303862400</td>\n",
       "      <td>Good Quality Dog Food</td>\n",
       "      <td>I have bought several of the Vitality canned d...</td>\n",
       "    </tr>\n",
       "    <tr>\n",
       "      <th>1</th>\n",
       "      <td>2</td>\n",
       "      <td>B00813GRG4</td>\n",
       "      <td>A1D87F6ZCVE5NK</td>\n",
       "      <td>dll pa</td>\n",
       "      <td>0</td>\n",
       "      <td>0</td>\n",
       "      <td>1</td>\n",
       "      <td>1346976000</td>\n",
       "      <td>Not as Advertised</td>\n",
       "      <td>Product arrived labeled as Jumbo Salted Peanut...</td>\n",
       "    </tr>\n",
       "    <tr>\n",
       "      <th>2</th>\n",
       "      <td>3</td>\n",
       "      <td>B000LQOCH0</td>\n",
       "      <td>ABXLMWJIXXAIN</td>\n",
       "      <td>Natalia Corres \"Natalia Corres\"</td>\n",
       "      <td>1</td>\n",
       "      <td>1</td>\n",
       "      <td>4</td>\n",
       "      <td>1219017600</td>\n",
       "      <td>\"Delight\" says it all</td>\n",
       "      <td>This is a confection that has been around a fe...</td>\n",
       "    </tr>\n",
       "    <tr>\n",
       "      <th>3</th>\n",
       "      <td>4</td>\n",
       "      <td>B000UA0QIQ</td>\n",
       "      <td>A395BORC6FGVXV</td>\n",
       "      <td>Karl</td>\n",
       "      <td>3</td>\n",
       "      <td>3</td>\n",
       "      <td>2</td>\n",
       "      <td>1307923200</td>\n",
       "      <td>Cough Medicine</td>\n",
       "      <td>If you are looking for the secret ingredient i...</td>\n",
       "    </tr>\n",
       "    <tr>\n",
       "      <th>4</th>\n",
       "      <td>5</td>\n",
       "      <td>B006K2ZZ7K</td>\n",
       "      <td>A1UQRSCLF8GW1T</td>\n",
       "      <td>Michael D. Bigham \"M. Wassir\"</td>\n",
       "      <td>0</td>\n",
       "      <td>0</td>\n",
       "      <td>5</td>\n",
       "      <td>1350777600</td>\n",
       "      <td>Great taffy</td>\n",
       "      <td>Great taffy at a great price.  There was a wid...</td>\n",
       "    </tr>\n",
       "  </tbody>\n",
       "</table>\n",
       "</div>"
      ],
      "text/plain": [
       "   Id   ProductId          UserId                      ProfileName  \\\n",
       "0   1  B001E4KFG0  A3SGXH7AUHU8GW                       delmartian   \n",
       "1   2  B00813GRG4  A1D87F6ZCVE5NK                           dll pa   \n",
       "2   3  B000LQOCH0   ABXLMWJIXXAIN  Natalia Corres \"Natalia Corres\"   \n",
       "3   4  B000UA0QIQ  A395BORC6FGVXV                             Karl   \n",
       "4   5  B006K2ZZ7K  A1UQRSCLF8GW1T    Michael D. Bigham \"M. Wassir\"   \n",
       "\n",
       "   HelpfulnessNumerator  HelpfulnessDenominator  Score        Time  \\\n",
       "0                     1                       1      5  1303862400   \n",
       "1                     0                       0      1  1346976000   \n",
       "2                     1                       1      4  1219017600   \n",
       "3                     3                       3      2  1307923200   \n",
       "4                     0                       0      5  1350777600   \n",
       "\n",
       "                 Summary                                               Text  \n",
       "0  Good Quality Dog Food  I have bought several of the Vitality canned d...  \n",
       "1      Not as Advertised  Product arrived labeled as Jumbo Salted Peanut...  \n",
       "2  \"Delight\" says it all  This is a confection that has been around a fe...  \n",
       "3         Cough Medicine  If you are looking for the secret ingredient i...  \n",
       "4            Great taffy  Great taffy at a great price.  There was a wid...  "
      ]
     },
     "execution_count": 5,
     "metadata": {},
     "output_type": "execute_result"
    }
   ],
   "source": [
    "filtered_data= pd.read_sql_query(\"\"\"select * from reviews where score!= 3 limit 5000\"\"\", con)\n",
    "filtered_data.head()"
   ]
  },
  {
   "cell_type": "code",
   "execution_count": 6,
   "id": "b7adbb84-5922-4c27-b26d-37ca89673e91",
   "metadata": {},
   "outputs": [],
   "source": [
    "def partition(x):\n",
    "    if x<3:\n",
    "        return 0\n",
    "    return 1"
   ]
  },
  {
   "cell_type": "code",
   "execution_count": 7,
   "id": "d13c2564-4d68-4489-a8f3-9c39b72cd1aa",
   "metadata": {},
   "outputs": [
    {
     "data": {
      "text/html": [
       "<div>\n",
       "<style scoped>\n",
       "    .dataframe tbody tr th:only-of-type {\n",
       "        vertical-align: middle;\n",
       "    }\n",
       "\n",
       "    .dataframe tbody tr th {\n",
       "        vertical-align: top;\n",
       "    }\n",
       "\n",
       "    .dataframe thead th {\n",
       "        text-align: right;\n",
       "    }\n",
       "</style>\n",
       "<table border=\"1\" class=\"dataframe\">\n",
       "  <thead>\n",
       "    <tr style=\"text-align: right;\">\n",
       "      <th></th>\n",
       "      <th>Id</th>\n",
       "      <th>ProductId</th>\n",
       "      <th>UserId</th>\n",
       "      <th>ProfileName</th>\n",
       "      <th>HelpfulnessNumerator</th>\n",
       "      <th>HelpfulnessDenominator</th>\n",
       "      <th>Score</th>\n",
       "      <th>Time</th>\n",
       "      <th>Summary</th>\n",
       "      <th>Text</th>\n",
       "    </tr>\n",
       "  </thead>\n",
       "  <tbody>\n",
       "    <tr>\n",
       "      <th>0</th>\n",
       "      <td>1</td>\n",
       "      <td>B001E4KFG0</td>\n",
       "      <td>A3SGXH7AUHU8GW</td>\n",
       "      <td>delmartian</td>\n",
       "      <td>1</td>\n",
       "      <td>1</td>\n",
       "      <td>1</td>\n",
       "      <td>1303862400</td>\n",
       "      <td>Good Quality Dog Food</td>\n",
       "      <td>I have bought several of the Vitality canned d...</td>\n",
       "    </tr>\n",
       "    <tr>\n",
       "      <th>1</th>\n",
       "      <td>2</td>\n",
       "      <td>B00813GRG4</td>\n",
       "      <td>A1D87F6ZCVE5NK</td>\n",
       "      <td>dll pa</td>\n",
       "      <td>0</td>\n",
       "      <td>0</td>\n",
       "      <td>0</td>\n",
       "      <td>1346976000</td>\n",
       "      <td>Not as Advertised</td>\n",
       "      <td>Product arrived labeled as Jumbo Salted Peanut...</td>\n",
       "    </tr>\n",
       "    <tr>\n",
       "      <th>2</th>\n",
       "      <td>3</td>\n",
       "      <td>B000LQOCH0</td>\n",
       "      <td>ABXLMWJIXXAIN</td>\n",
       "      <td>Natalia Corres \"Natalia Corres\"</td>\n",
       "      <td>1</td>\n",
       "      <td>1</td>\n",
       "      <td>1</td>\n",
       "      <td>1219017600</td>\n",
       "      <td>\"Delight\" says it all</td>\n",
       "      <td>This is a confection that has been around a fe...</td>\n",
       "    </tr>\n",
       "    <tr>\n",
       "      <th>3</th>\n",
       "      <td>4</td>\n",
       "      <td>B000UA0QIQ</td>\n",
       "      <td>A395BORC6FGVXV</td>\n",
       "      <td>Karl</td>\n",
       "      <td>3</td>\n",
       "      <td>3</td>\n",
       "      <td>0</td>\n",
       "      <td>1307923200</td>\n",
       "      <td>Cough Medicine</td>\n",
       "      <td>If you are looking for the secret ingredient i...</td>\n",
       "    </tr>\n",
       "    <tr>\n",
       "      <th>4</th>\n",
       "      <td>5</td>\n",
       "      <td>B006K2ZZ7K</td>\n",
       "      <td>A1UQRSCLF8GW1T</td>\n",
       "      <td>Michael D. Bigham \"M. Wassir\"</td>\n",
       "      <td>0</td>\n",
       "      <td>0</td>\n",
       "      <td>1</td>\n",
       "      <td>1350777600</td>\n",
       "      <td>Great taffy</td>\n",
       "      <td>Great taffy at a great price.  There was a wid...</td>\n",
       "    </tr>\n",
       "  </tbody>\n",
       "</table>\n",
       "</div>"
      ],
      "text/plain": [
       "   Id   ProductId          UserId                      ProfileName  \\\n",
       "0   1  B001E4KFG0  A3SGXH7AUHU8GW                       delmartian   \n",
       "1   2  B00813GRG4  A1D87F6ZCVE5NK                           dll pa   \n",
       "2   3  B000LQOCH0   ABXLMWJIXXAIN  Natalia Corres \"Natalia Corres\"   \n",
       "3   4  B000UA0QIQ  A395BORC6FGVXV                             Karl   \n",
       "4   5  B006K2ZZ7K  A1UQRSCLF8GW1T    Michael D. Bigham \"M. Wassir\"   \n",
       "\n",
       "   HelpfulnessNumerator  HelpfulnessDenominator  Score        Time  \\\n",
       "0                     1                       1      1  1303862400   \n",
       "1                     0                       0      0  1346976000   \n",
       "2                     1                       1      1  1219017600   \n",
       "3                     3                       3      0  1307923200   \n",
       "4                     0                       0      1  1350777600   \n",
       "\n",
       "                 Summary                                               Text  \n",
       "0  Good Quality Dog Food  I have bought several of the Vitality canned d...  \n",
       "1      Not as Advertised  Product arrived labeled as Jumbo Salted Peanut...  \n",
       "2  \"Delight\" says it all  This is a confection that has been around a fe...  \n",
       "3         Cough Medicine  If you are looking for the secret ingredient i...  \n",
       "4            Great taffy  Great taffy at a great price.  There was a wid...  "
      ]
     },
     "execution_count": 7,
     "metadata": {},
     "output_type": "execute_result"
    }
   ],
   "source": [
    "# applying mapping\n",
    "actual= filtered_data['Score']\n",
    "PositiveNegative= actual.map(partition)\n",
    "filtered_data['Score']= PositiveNegative\n",
    "filtered_data.head()"
   ]
  },
  {
   "cell_type": "code",
   "execution_count": 8,
   "id": "aa3a30dc-dad5-4813-9005-eb8af78682c0",
   "metadata": {},
   "outputs": [],
   "source": [
    "sorted_data= filtered_data.sort_values(by='ProductId', kind= 'quicksort', ascending=True)"
   ]
  },
  {
   "cell_type": "code",
   "execution_count": 9,
   "id": "87140037-de5b-43c5-a49d-66ed1bb6afc3",
   "metadata": {},
   "outputs": [
    {
     "data": {
      "text/html": [
       "<div>\n",
       "<style scoped>\n",
       "    .dataframe tbody tr th:only-of-type {\n",
       "        vertical-align: middle;\n",
       "    }\n",
       "\n",
       "    .dataframe tbody tr th {\n",
       "        vertical-align: top;\n",
       "    }\n",
       "\n",
       "    .dataframe thead th {\n",
       "        text-align: right;\n",
       "    }\n",
       "</style>\n",
       "<table border=\"1\" class=\"dataframe\">\n",
       "  <thead>\n",
       "    <tr style=\"text-align: right;\">\n",
       "      <th></th>\n",
       "      <th>Id</th>\n",
       "      <th>ProductId</th>\n",
       "      <th>UserId</th>\n",
       "      <th>ProfileName</th>\n",
       "      <th>HelpfulnessNumerator</th>\n",
       "      <th>HelpfulnessDenominator</th>\n",
       "      <th>Score</th>\n",
       "      <th>Time</th>\n",
       "      <th>Summary</th>\n",
       "      <th>Text</th>\n",
       "    </tr>\n",
       "  </thead>\n",
       "  <tbody>\n",
       "    <tr>\n",
       "      <th>2546</th>\n",
       "      <td>2774</td>\n",
       "      <td>B00002NCJC</td>\n",
       "      <td>A196AJHU9EASJN</td>\n",
       "      <td>Alex Chaffee</td>\n",
       "      <td>0</td>\n",
       "      <td>0</td>\n",
       "      <td>1</td>\n",
       "      <td>1282953600</td>\n",
       "      <td>thirty bucks?</td>\n",
       "      <td>Why is this $[...] when the same product is av...</td>\n",
       "    </tr>\n",
       "    <tr>\n",
       "      <th>2547</th>\n",
       "      <td>2775</td>\n",
       "      <td>B00002NCJC</td>\n",
       "      <td>A13RRPGE79XFFH</td>\n",
       "      <td>reader48</td>\n",
       "      <td>0</td>\n",
       "      <td>0</td>\n",
       "      <td>1</td>\n",
       "      <td>1281052800</td>\n",
       "      <td>Flies Begone</td>\n",
       "      <td>We have used the Victor fly bait for 3 seasons...</td>\n",
       "    </tr>\n",
       "    <tr>\n",
       "      <th>1145</th>\n",
       "      <td>1244</td>\n",
       "      <td>B00002Z754</td>\n",
       "      <td>A3B8RCEI0FXFI6</td>\n",
       "      <td>B G Chase</td>\n",
       "      <td>10</td>\n",
       "      <td>10</td>\n",
       "      <td>1</td>\n",
       "      <td>962236800</td>\n",
       "      <td>WOW Make your own 'slickers' !</td>\n",
       "      <td>I just received my shipment and could hardly w...</td>\n",
       "    </tr>\n",
       "    <tr>\n",
       "      <th>1146</th>\n",
       "      <td>1245</td>\n",
       "      <td>B00002Z754</td>\n",
       "      <td>A29Z5PI9BW2PU3</td>\n",
       "      <td>Robbie</td>\n",
       "      <td>7</td>\n",
       "      <td>7</td>\n",
       "      <td>1</td>\n",
       "      <td>961718400</td>\n",
       "      <td>Great Product</td>\n",
       "      <td>This was a really good idea and the final prod...</td>\n",
       "    </tr>\n",
       "    <tr>\n",
       "      <th>2942</th>\n",
       "      <td>3204</td>\n",
       "      <td>B000084DVR</td>\n",
       "      <td>A1UGDJP1ZJWVPF</td>\n",
       "      <td>T. Moore \"thoughtful reader\"</td>\n",
       "      <td>1</td>\n",
       "      <td>1</td>\n",
       "      <td>1</td>\n",
       "      <td>1177977600</td>\n",
       "      <td>Good stuff!</td>\n",
       "      <td>I'm glad my 45lb cocker/standard poodle puppy ...</td>\n",
       "    </tr>\n",
       "  </tbody>\n",
       "</table>\n",
       "</div>"
      ],
      "text/plain": [
       "        Id   ProductId          UserId                   ProfileName  \\\n",
       "2546  2774  B00002NCJC  A196AJHU9EASJN                  Alex Chaffee   \n",
       "2547  2775  B00002NCJC  A13RRPGE79XFFH                      reader48   \n",
       "1145  1244  B00002Z754  A3B8RCEI0FXFI6                     B G Chase   \n",
       "1146  1245  B00002Z754  A29Z5PI9BW2PU3                        Robbie   \n",
       "2942  3204  B000084DVR  A1UGDJP1ZJWVPF  T. Moore \"thoughtful reader\"   \n",
       "\n",
       "      HelpfulnessNumerator  HelpfulnessDenominator  Score        Time  \\\n",
       "2546                     0                       0      1  1282953600   \n",
       "2547                     0                       0      1  1281052800   \n",
       "1145                    10                      10      1   962236800   \n",
       "1146                     7                       7      1   961718400   \n",
       "2942                     1                       1      1  1177977600   \n",
       "\n",
       "                             Summary  \\\n",
       "2546                   thirty bucks?   \n",
       "2547                    Flies Begone   \n",
       "1145  WOW Make your own 'slickers' !   \n",
       "1146                   Great Product   \n",
       "2942                     Good stuff!   \n",
       "\n",
       "                                                   Text  \n",
       "2546  Why is this $[...] when the same product is av...  \n",
       "2547  We have used the Victor fly bait for 3 seasons...  \n",
       "1145  I just received my shipment and could hardly w...  \n",
       "1146  This was a really good idea and the final prod...  \n",
       "2942  I'm glad my 45lb cocker/standard poodle puppy ...  "
      ]
     },
     "execution_count": 9,
     "metadata": {},
     "output_type": "execute_result"
    }
   ],
   "source": [
    "sorted_data.head()"
   ]
  },
  {
   "cell_type": "code",
   "execution_count": 10,
   "id": "2b06e7c3-d97a-4e28-afbd-8d57600112f3",
   "metadata": {},
   "outputs": [
    {
     "data": {
      "text/plain": [
       "(4993, 10)"
      ]
     },
     "execution_count": 10,
     "metadata": {},
     "output_type": "execute_result"
    }
   ],
   "source": [
    "final= sorted_data.drop_duplicates(subset= {'UserId', 'ProductId', 'Text'}, keep='first')\n",
    "final.shape"
   ]
  },
  {
   "cell_type": "code",
   "execution_count": 11,
   "id": "30124fd6-6e22-40a5-8563-a5e9f40897b5",
   "metadata": {},
   "outputs": [
    {
     "data": {
      "text/plain": [
       "Score\n",
       "1    4183\n",
       "0     810\n",
       "Name: count, dtype: int64"
      ]
     },
     "execution_count": 11,
     "metadata": {},
     "output_type": "execute_result"
    }
   ],
   "source": [
    "final['Score'].value_counts()"
   ]
  },
  {
   "cell_type": "code",
   "execution_count": 12,
   "id": "241378c8-3b10-468d-a909-1030409e7c3e",
   "metadata": {},
   "outputs": [
    {
     "data": {
      "text/plain": [
       "(4993, 10)"
      ]
     },
     "execution_count": 12,
     "metadata": {},
     "output_type": "execute_result"
    }
   ],
   "source": [
    "final= final[final['HelpfulnessNumerator']<= final['HelpfulnessDenominator']]\n",
    "final.shape"
   ]
  },
  {
   "cell_type": "code",
   "execution_count": 13,
   "id": "7df2e653-ea94-4d04-95ca-b3ae7c7a4a87",
   "metadata": {},
   "outputs": [
    {
     "data": {
      "text/plain": [
       "[\"These are so nice and creamy!  Usually I don't justify buying k-cups for things like cocoa that you can get cheaper in a packet, but this is so convenient and very good tasting .. way better than most powdered cocoa packets I've tried.  As far as price comparison, it is equivalent to gourmet-types of cocoa that would easily cost $1+ per packet.  I also like that it comes in a variety pack with 3 flavor options.  Highly recommend\",\n",
       " 'Melitta Pods are an inexpensive alternative to k-cups  that also save in the amount of material you have to throw away. Buyer Beware: Pods vary GREATLY in the amount of coffee they have in them. These allow for a good size cup of coffee.',\n",
       " 'I enjoy my coffee with plenty of sugar and a flavored creamer. This provided a good base for that experience. As a non-connoisseur, this is just about right: not too strong, not bitter, good \"coffee\" flavor.<br /><br />For the sake of comparison, I most often drink the ground version of <a href=\"http://www.amazon.com/gp/product/B001EQ55MM\">Eight O\\'Clock Coffee, 50% Decaf Whole Bean, 12-Ounce Bags (Pack of 4)</a> Right now on Amazon, Melitta\\'s is slightly more expensive per ounce, though Subscribe and Save would even it out and Melitta\\'s brewing instructions call for using a smaller amount of grounds. I would expect them to be about the same quality, and in my opinion they were. This is certainly a coffee I\\'m happy to drink when I want decaf.<br /><br />One downside is the bag. My husband got to it before I did, but he reported that it required scissors to get it open. The resealing feature on the bag then couldn\\'t be used, so we made the transfer to another sealed container.',\n",
       " 'As a person who love cinnamon scent and flavor, I find this tea amazing.  I was used to drinking the plain black tea at work and this blend is a nice change from that.  I can probably only have one or two cups a day because it is pretty sweet but I will continue to drink it probably every day.  Enjoy',\n",
       " 'I have 4 adult Shih-Tzus and while they do prefer it when I cook for them...... they do eat this and it has helped eliminate the brownish tear stains they get when I feed them some dry foods.']"
      ]
     },
     "execution_count": 13,
     "metadata": {},
     "output_type": "execute_result"
    }
   ],
   "source": [
    "samples= []\n",
    "for i in range(5):\n",
    "    samples.append(final['Text'][np.random.randint(0, final.shape[0])])\n",
    "samples"
   ]
  },
  {
   "cell_type": "code",
   "execution_count": 14,
   "id": "274508aa-febe-4668-bf32-728adae2de29",
   "metadata": {},
   "outputs": [],
   "source": [
    "# Text preprocessing\n",
    "import re\n",
    "from bs4 import BeautifulSoup"
   ]
  },
  {
   "cell_type": "code",
   "execution_count": 15,
   "id": "a6c320a9-1786-4525-b6f3-5345b0704427",
   "metadata": {},
   "outputs": [
    {
     "data": {
      "text/plain": [
       "'I have 4 adult Shih-Tzus and while they do prefer it when I cook for them...... they do eat this and it has helped eliminate the brownish tear stains they get when I feed them some dry foods.'"
      ]
     },
     "execution_count": 15,
     "metadata": {},
     "output_type": "execute_result"
    }
   ],
   "source": [
    "soup= BeautifulSoup(samples[-1], 'html')\n",
    "soup.get_text()"
   ]
  },
  {
   "cell_type": "code",
   "execution_count": 16,
   "id": "e6286a4f-5d3e-4785-9f04-37712fbf2657",
   "metadata": {},
   "outputs": [],
   "source": [
    "def decontracted(phrase):\n",
    "    # specific\n",
    "    phrase= re.sub(r\"won't\", \"will not\", phrase)\n",
    "    phrase= re.sub(r\"can't\", \"can not\", phrase)\n",
    "    phrase= re.sub(r\"don't\", \"do not\", phrase)\n",
    "    phrase= re.sub(r\"n't\", \"not\", phrase)\n",
    "    phrase= re.sub(r\"won't\", \"will not\", phrase)\n",
    "    phrase= re.sub(r\"'ve\", \"have\", phrase)\n",
    "    phrase= re.sub(r\"'m\", \"am\", phrase)\n",
    "    phrase= re.sub(r\"'re\", \"are\", phrase)\n",
    "    phrase= re.sub(r\"'t\", \"have\", phrase)\n",
    "    phrase= re.sub(r\"'ll\", \"will\", phrase)\n",
    "\n",
    "    return phrase"
   ]
  },
  {
   "cell_type": "code",
   "execution_count": 17,
   "id": "c297cc1a-d278-4828-a78b-6e1acebe0487",
   "metadata": {},
   "outputs": [
    {
     "data": {
      "text/plain": [
       "'i am at the cafe, i have done my project will you come along with me'"
      ]
     },
     "execution_count": 17,
     "metadata": {},
     "output_type": "execute_result"
    }
   ],
   "source": [
    "decontracted(\"i 'm at the cafe, i 've done my project 'll you come along with me\")"
   ]
  },
  {
   "cell_type": "code",
   "execution_count": 33,
   "id": "27cb7da1-e63e-4c33-9972-8fa3a6e89d4e",
   "metadata": {},
   "outputs": [
    {
     "name": "stderr",
     "output_type": "stream",
     "text": [
      "100%|██████████████████████████████████████████████████████████████████████████████| 4993/4993 [01:56<00:00, 42.93it/s]\n"
     ]
    }
   ],
   "source": [
    "# combining all preprocessing\n",
    "from tqdm import tqdm\n",
    "from nltk.tokenize import word_tokenize\n",
    "\n",
    "lamm= WordNetLemmatizer()\n",
    "\n",
    "preprocessed_review= []\n",
    "for sent in tqdm(final['Text'].values):\n",
    "    sent= sent.lower()\n",
    "    sent= re.sub(r'https\\S+',\"\", sent)\n",
    "    sent= re.sub(r'http\\S+',\"\", sent)\n",
    "    sent= BeautifulSoup(sent, 'html').get_text()\n",
    "    sent= decontracted(sent)\n",
    "    sent= re.sub(r'[^a-zA-Z]+',\" \", sent)\n",
    "    sent= ' '.join([lamm.lemmatize(word) for word in word_tokenize(sent) if word not in stopwords.words('english')])\n",
    "    preprocessed_review.append(sent.strip())"
   ]
  },
  {
   "cell_type": "code",
   "execution_count": 34,
   "id": "e9eae73a-315e-4f37-ae3c-25ac7c9e2a5f",
   "metadata": {},
   "outputs": [
    {
     "data": {
      "text/plain": [
       "['product available victor trap unreal course total fly genocide pretty stinky right nearby',\n",
       " 'used victor fly bait season beat great product',\n",
       " 'received shipment could hardly wait try product love slicker call instead sticker removed easily daughter designed sign printed reverse use car window printed beautifully havehe print shop program going lot fun product window everywhere surface like tv screen computer monitor',\n",
       " 'really good idea final product outstanding use decal car window everybody asks bought decal made two thumb',\n",
       " 'iam glad lb cocker standard poodle puppy love stuff trust brand superior nutrition compare label previous feed pedigree mostly corn little dude healthy happy high energy glossy coat also superior nutrition produce smaller compact stool',\n",
       " 'using food month find excellent fact two dog coton de tulear lb standard poodle puppy lb love food thriving coat excellent condition overall structure perfect good tasting dog good good deal owner around best food ever used excellent',\n",
       " 'nine cat crazy kibble last thing want lb cat food cat hate iwill buying',\n",
       " 'shipped day ordered arrived within day live opposite coast made order arrived nicely packaged price got lb oz biscotti weighed kitchen scale cut big piece add shipping handling come little per piece approximately local bakery charge per biscotti guess going price homemade biscotti day flavor almondy hardness perfect biscotti hard crunchy hard couldnot eat without dunking biscotti biscotti eaten dunked coffee tea cocoa dunked mine chai tea taste great biscotti fall apart dunked like almond flavor wish came anise flavor favorite biscotti flavor',\n",
       " 'mix probably something would want use everyday new enough different enough something special add summertime recipe want reward something fun fruity fill bill quickly easily aftertaste often associated diet drink highly recommend',\n",
       " 'description product disceptive product represented powder powder granule nothing shredded coconut doesnot even dissolve high speed commercial blender unless using product manufacture dark chocolate coated coconut patty useless intention use additive healthy shake ended ruining shake resort chewing undissolved tasteless coconut piece rather drinking shake additionally way product packaged protective cardboard preventing slashing top package box opened could rated product zero star would redeeming quality rather inexpensive gave one package away free patient love coconut gave back two day later complaining terrible']"
      ]
     },
     "execution_count": 34,
     "metadata": {},
     "output_type": "execute_result"
    }
   ],
   "source": [
    "preprocessed_review[:10]"
   ]
  },
  {
   "cell_type": "markdown",
   "id": "33c9946a-1154-4148-abef-55bc046429d3",
   "metadata": {},
   "source": [
    "## Building ML algo \n",
    "### Bag of word / ngram / tfidf\n",
    "### Naive bayes / random forest / xgboost\n",
    "\n",
    "### Word2Vec / Glove / Bert -- DL"
   ]
  },
  {
   "cell_type": "code",
   "execution_count": 35,
   "id": "de6e9b0f-5abd-45f0-b592-f116a567d82f",
   "metadata": {},
   "outputs": [
    {
     "name": "stdout",
     "output_type": "stream",
     "text": [
      "some features name ['aa' 'aahhhs' 'aback' 'abandon' 'abates' 'abbott' 'abby' 'abdominal'\n",
      " 'abiding' 'ability' 'able' 'abor' 'aboulutely' 'absence' 'absent'\n",
      " 'absoloutely' 'absolute' 'absolutely' 'absolutley' 'absolutly']\n",
      "==============================\n",
      "<class 'scipy.sparse._csr.csr_matrix'>\n",
      "(4993, 11716)\n",
      "11716\n"
     ]
    }
   ],
   "source": [
    "# Bag of word\n",
    "from sklearn.feature_extraction.text import CountVectorizer\n",
    "\n",
    "count_vect= CountVectorizer()\n",
    "count_vect.fit(preprocessed_review)\n",
    "print(\"some features name\", count_vect.get_feature_names_out()[:20])\n",
    "print(\"=\"*30)\n",
    "final_counts= count_vect.transform(preprocessed_review)\n",
    "print(type(final_counts))\n",
    "print(final_counts.shape)\n",
    "print(final_counts.shape[1])\n"
   ]
  },
  {
   "cell_type": "code",
   "execution_count": 36,
   "id": "58be96a4-ede8-4c74-9186-5d184170ec40",
   "metadata": {},
   "outputs": [
    {
     "name": "stdout",
     "output_type": "stream",
     "text": [
      "some features name ['aa' 'aahhhs' 'aback' 'abandon' 'abates' 'abbott' 'abby' 'abdominal'\n",
      " 'abiding' 'ability' 'able' 'abor' 'aboulutely' 'absence' 'absent'\n",
      " 'absoloutely' 'absolute' 'absolutely' 'absolutley' 'absolutly']\n",
      "==============================\n",
      "<class 'scipy.sparse._csr.csr_matrix'>\n",
      "(4993, 11716)\n",
      "11716\n"
     ]
    }
   ],
   "source": [
    "from sklearn.feature_extraction.text import TfidfVectorizer\n",
    "\n",
    "tfidf= TfidfVectorizer()\n",
    "tfidf.fit(preprocessed_review)\n",
    "print(\"some features name\", tfidf.get_feature_names_out()[:20])\n",
    "print(\"=\"*30)\n",
    "final_counts_tf= tfidf.transform(preprocessed_review)\n",
    "print(type(final_counts_tf))\n",
    "print(final_counts_tf.shape)\n",
    "print(final_counts_tf.shape[1])"
   ]
  },
  {
   "cell_type": "code",
   "execution_count": 40,
   "id": "0debd185-11da-4970-8a76-23304cbf6fa6",
   "metadata": {},
   "outputs": [
    {
     "data": {
      "text/html": [
       "<div>\n",
       "<style scoped>\n",
       "    .dataframe tbody tr th:only-of-type {\n",
       "        vertical-align: middle;\n",
       "    }\n",
       "\n",
       "    .dataframe tbody tr th {\n",
       "        vertical-align: top;\n",
       "    }\n",
       "\n",
       "    .dataframe thead th {\n",
       "        text-align: right;\n",
       "    }\n",
       "</style>\n",
       "<table border=\"1\" class=\"dataframe\">\n",
       "  <thead>\n",
       "    <tr style=\"text-align: right;\">\n",
       "      <th></th>\n",
       "      <th>aa</th>\n",
       "      <th>aahhhs</th>\n",
       "      <th>aback</th>\n",
       "      <th>abandon</th>\n",
       "      <th>abates</th>\n",
       "      <th>abbott</th>\n",
       "      <th>abby</th>\n",
       "      <th>abdominal</th>\n",
       "      <th>abiding</th>\n",
       "      <th>ability</th>\n",
       "      <th>...</th>\n",
       "      <th>zippy</th>\n",
       "      <th>zito</th>\n",
       "      <th>zola</th>\n",
       "      <th>zomg</th>\n",
       "      <th>zon</th>\n",
       "      <th>zoo</th>\n",
       "      <th>zpkm</th>\n",
       "      <th>zucchini</th>\n",
       "      <th>zupas</th>\n",
       "      <th>zuppa</th>\n",
       "    </tr>\n",
       "  </thead>\n",
       "  <tbody>\n",
       "    <tr>\n",
       "      <th>0</th>\n",
       "      <td>0.0</td>\n",
       "      <td>0.0</td>\n",
       "      <td>0.0</td>\n",
       "      <td>0.0</td>\n",
       "      <td>0.0</td>\n",
       "      <td>0.0</td>\n",
       "      <td>0.0</td>\n",
       "      <td>0.0</td>\n",
       "      <td>0.0</td>\n",
       "      <td>0.0</td>\n",
       "      <td>...</td>\n",
       "      <td>0.0</td>\n",
       "      <td>0.0</td>\n",
       "      <td>0.0</td>\n",
       "      <td>0.0</td>\n",
       "      <td>0.0</td>\n",
       "      <td>0.0</td>\n",
       "      <td>0.0</td>\n",
       "      <td>0.0</td>\n",
       "      <td>0.0</td>\n",
       "      <td>0.0</td>\n",
       "    </tr>\n",
       "    <tr>\n",
       "      <th>1</th>\n",
       "      <td>0.0</td>\n",
       "      <td>0.0</td>\n",
       "      <td>0.0</td>\n",
       "      <td>0.0</td>\n",
       "      <td>0.0</td>\n",
       "      <td>0.0</td>\n",
       "      <td>0.0</td>\n",
       "      <td>0.0</td>\n",
       "      <td>0.0</td>\n",
       "      <td>0.0</td>\n",
       "      <td>...</td>\n",
       "      <td>0.0</td>\n",
       "      <td>0.0</td>\n",
       "      <td>0.0</td>\n",
       "      <td>0.0</td>\n",
       "      <td>0.0</td>\n",
       "      <td>0.0</td>\n",
       "      <td>0.0</td>\n",
       "      <td>0.0</td>\n",
       "      <td>0.0</td>\n",
       "      <td>0.0</td>\n",
       "    </tr>\n",
       "    <tr>\n",
       "      <th>2</th>\n",
       "      <td>0.0</td>\n",
       "      <td>0.0</td>\n",
       "      <td>0.0</td>\n",
       "      <td>0.0</td>\n",
       "      <td>0.0</td>\n",
       "      <td>0.0</td>\n",
       "      <td>0.0</td>\n",
       "      <td>0.0</td>\n",
       "      <td>0.0</td>\n",
       "      <td>0.0</td>\n",
       "      <td>...</td>\n",
       "      <td>0.0</td>\n",
       "      <td>0.0</td>\n",
       "      <td>0.0</td>\n",
       "      <td>0.0</td>\n",
       "      <td>0.0</td>\n",
       "      <td>0.0</td>\n",
       "      <td>0.0</td>\n",
       "      <td>0.0</td>\n",
       "      <td>0.0</td>\n",
       "      <td>0.0</td>\n",
       "    </tr>\n",
       "    <tr>\n",
       "      <th>3</th>\n",
       "      <td>0.0</td>\n",
       "      <td>0.0</td>\n",
       "      <td>0.0</td>\n",
       "      <td>0.0</td>\n",
       "      <td>0.0</td>\n",
       "      <td>0.0</td>\n",
       "      <td>0.0</td>\n",
       "      <td>0.0</td>\n",
       "      <td>0.0</td>\n",
       "      <td>0.0</td>\n",
       "      <td>...</td>\n",
       "      <td>0.0</td>\n",
       "      <td>0.0</td>\n",
       "      <td>0.0</td>\n",
       "      <td>0.0</td>\n",
       "      <td>0.0</td>\n",
       "      <td>0.0</td>\n",
       "      <td>0.0</td>\n",
       "      <td>0.0</td>\n",
       "      <td>0.0</td>\n",
       "      <td>0.0</td>\n",
       "    </tr>\n",
       "    <tr>\n",
       "      <th>4</th>\n",
       "      <td>0.0</td>\n",
       "      <td>0.0</td>\n",
       "      <td>0.0</td>\n",
       "      <td>0.0</td>\n",
       "      <td>0.0</td>\n",
       "      <td>0.0</td>\n",
       "      <td>0.0</td>\n",
       "      <td>0.0</td>\n",
       "      <td>0.0</td>\n",
       "      <td>0.0</td>\n",
       "      <td>...</td>\n",
       "      <td>0.0</td>\n",
       "      <td>0.0</td>\n",
       "      <td>0.0</td>\n",
       "      <td>0.0</td>\n",
       "      <td>0.0</td>\n",
       "      <td>0.0</td>\n",
       "      <td>0.0</td>\n",
       "      <td>0.0</td>\n",
       "      <td>0.0</td>\n",
       "      <td>0.0</td>\n",
       "    </tr>\n",
       "    <tr>\n",
       "      <th>...</th>\n",
       "      <td>...</td>\n",
       "      <td>...</td>\n",
       "      <td>...</td>\n",
       "      <td>...</td>\n",
       "      <td>...</td>\n",
       "      <td>...</td>\n",
       "      <td>...</td>\n",
       "      <td>...</td>\n",
       "      <td>...</td>\n",
       "      <td>...</td>\n",
       "      <td>...</td>\n",
       "      <td>...</td>\n",
       "      <td>...</td>\n",
       "      <td>...</td>\n",
       "      <td>...</td>\n",
       "      <td>...</td>\n",
       "      <td>...</td>\n",
       "      <td>...</td>\n",
       "      <td>...</td>\n",
       "      <td>...</td>\n",
       "      <td>...</td>\n",
       "    </tr>\n",
       "    <tr>\n",
       "      <th>4988</th>\n",
       "      <td>0.0</td>\n",
       "      <td>0.0</td>\n",
       "      <td>0.0</td>\n",
       "      <td>0.0</td>\n",
       "      <td>0.0</td>\n",
       "      <td>0.0</td>\n",
       "      <td>0.0</td>\n",
       "      <td>0.0</td>\n",
       "      <td>0.0</td>\n",
       "      <td>0.0</td>\n",
       "      <td>...</td>\n",
       "      <td>0.0</td>\n",
       "      <td>0.0</td>\n",
       "      <td>0.0</td>\n",
       "      <td>0.0</td>\n",
       "      <td>0.0</td>\n",
       "      <td>0.0</td>\n",
       "      <td>0.0</td>\n",
       "      <td>0.0</td>\n",
       "      <td>0.0</td>\n",
       "      <td>0.0</td>\n",
       "    </tr>\n",
       "    <tr>\n",
       "      <th>4989</th>\n",
       "      <td>0.0</td>\n",
       "      <td>0.0</td>\n",
       "      <td>0.0</td>\n",
       "      <td>0.0</td>\n",
       "      <td>0.0</td>\n",
       "      <td>0.0</td>\n",
       "      <td>0.0</td>\n",
       "      <td>0.0</td>\n",
       "      <td>0.0</td>\n",
       "      <td>0.0</td>\n",
       "      <td>...</td>\n",
       "      <td>0.0</td>\n",
       "      <td>0.0</td>\n",
       "      <td>0.0</td>\n",
       "      <td>0.0</td>\n",
       "      <td>0.0</td>\n",
       "      <td>0.0</td>\n",
       "      <td>0.0</td>\n",
       "      <td>0.0</td>\n",
       "      <td>0.0</td>\n",
       "      <td>0.0</td>\n",
       "    </tr>\n",
       "    <tr>\n",
       "      <th>4990</th>\n",
       "      <td>0.0</td>\n",
       "      <td>0.0</td>\n",
       "      <td>0.0</td>\n",
       "      <td>0.0</td>\n",
       "      <td>0.0</td>\n",
       "      <td>0.0</td>\n",
       "      <td>0.0</td>\n",
       "      <td>0.0</td>\n",
       "      <td>0.0</td>\n",
       "      <td>0.0</td>\n",
       "      <td>...</td>\n",
       "      <td>0.0</td>\n",
       "      <td>0.0</td>\n",
       "      <td>0.0</td>\n",
       "      <td>0.0</td>\n",
       "      <td>0.0</td>\n",
       "      <td>0.0</td>\n",
       "      <td>0.0</td>\n",
       "      <td>0.0</td>\n",
       "      <td>0.0</td>\n",
       "      <td>0.0</td>\n",
       "    </tr>\n",
       "    <tr>\n",
       "      <th>4991</th>\n",
       "      <td>0.0</td>\n",
       "      <td>0.0</td>\n",
       "      <td>0.0</td>\n",
       "      <td>0.0</td>\n",
       "      <td>0.0</td>\n",
       "      <td>0.0</td>\n",
       "      <td>0.0</td>\n",
       "      <td>0.0</td>\n",
       "      <td>0.0</td>\n",
       "      <td>0.0</td>\n",
       "      <td>...</td>\n",
       "      <td>0.0</td>\n",
       "      <td>0.0</td>\n",
       "      <td>0.0</td>\n",
       "      <td>0.0</td>\n",
       "      <td>0.0</td>\n",
       "      <td>0.0</td>\n",
       "      <td>0.0</td>\n",
       "      <td>0.0</td>\n",
       "      <td>0.0</td>\n",
       "      <td>0.0</td>\n",
       "    </tr>\n",
       "    <tr>\n",
       "      <th>4992</th>\n",
       "      <td>0.0</td>\n",
       "      <td>0.0</td>\n",
       "      <td>0.0</td>\n",
       "      <td>0.0</td>\n",
       "      <td>0.0</td>\n",
       "      <td>0.0</td>\n",
       "      <td>0.0</td>\n",
       "      <td>0.0</td>\n",
       "      <td>0.0</td>\n",
       "      <td>0.0</td>\n",
       "      <td>...</td>\n",
       "      <td>0.0</td>\n",
       "      <td>0.0</td>\n",
       "      <td>0.0</td>\n",
       "      <td>0.0</td>\n",
       "      <td>0.0</td>\n",
       "      <td>0.0</td>\n",
       "      <td>0.0</td>\n",
       "      <td>0.0</td>\n",
       "      <td>0.0</td>\n",
       "      <td>0.0</td>\n",
       "    </tr>\n",
       "  </tbody>\n",
       "</table>\n",
       "<p>4993 rows × 11716 columns</p>\n",
       "</div>"
      ],
      "text/plain": [
       "       aa  aahhhs  aback  abandon  abates  abbott  abby  abdominal  abiding  \\\n",
       "0     0.0     0.0    0.0      0.0     0.0     0.0   0.0        0.0      0.0   \n",
       "1     0.0     0.0    0.0      0.0     0.0     0.0   0.0        0.0      0.0   \n",
       "2     0.0     0.0    0.0      0.0     0.0     0.0   0.0        0.0      0.0   \n",
       "3     0.0     0.0    0.0      0.0     0.0     0.0   0.0        0.0      0.0   \n",
       "4     0.0     0.0    0.0      0.0     0.0     0.0   0.0        0.0      0.0   \n",
       "...   ...     ...    ...      ...     ...     ...   ...        ...      ...   \n",
       "4988  0.0     0.0    0.0      0.0     0.0     0.0   0.0        0.0      0.0   \n",
       "4989  0.0     0.0    0.0      0.0     0.0     0.0   0.0        0.0      0.0   \n",
       "4990  0.0     0.0    0.0      0.0     0.0     0.0   0.0        0.0      0.0   \n",
       "4991  0.0     0.0    0.0      0.0     0.0     0.0   0.0        0.0      0.0   \n",
       "4992  0.0     0.0    0.0      0.0     0.0     0.0   0.0        0.0      0.0   \n",
       "\n",
       "      ability  ...  zippy  zito  zola  zomg  zon  zoo  zpkm  zucchini  zupas  \\\n",
       "0         0.0  ...    0.0   0.0   0.0   0.0  0.0  0.0   0.0       0.0    0.0   \n",
       "1         0.0  ...    0.0   0.0   0.0   0.0  0.0  0.0   0.0       0.0    0.0   \n",
       "2         0.0  ...    0.0   0.0   0.0   0.0  0.0  0.0   0.0       0.0    0.0   \n",
       "3         0.0  ...    0.0   0.0   0.0   0.0  0.0  0.0   0.0       0.0    0.0   \n",
       "4         0.0  ...    0.0   0.0   0.0   0.0  0.0  0.0   0.0       0.0    0.0   \n",
       "...       ...  ...    ...   ...   ...   ...  ...  ...   ...       ...    ...   \n",
       "4988      0.0  ...    0.0   0.0   0.0   0.0  0.0  0.0   0.0       0.0    0.0   \n",
       "4989      0.0  ...    0.0   0.0   0.0   0.0  0.0  0.0   0.0       0.0    0.0   \n",
       "4990      0.0  ...    0.0   0.0   0.0   0.0  0.0  0.0   0.0       0.0    0.0   \n",
       "4991      0.0  ...    0.0   0.0   0.0   0.0  0.0  0.0   0.0       0.0    0.0   \n",
       "4992      0.0  ...    0.0   0.0   0.0   0.0  0.0  0.0   0.0       0.0    0.0   \n",
       "\n",
       "      zuppa  \n",
       "0       0.0  \n",
       "1       0.0  \n",
       "2       0.0  \n",
       "3       0.0  \n",
       "4       0.0  \n",
       "...     ...  \n",
       "4988    0.0  \n",
       "4989    0.0  \n",
       "4990    0.0  \n",
       "4991    0.0  \n",
       "4992    0.0  \n",
       "\n",
       "[4993 rows x 11716 columns]"
      ]
     },
     "execution_count": 40,
     "metadata": {},
     "output_type": "execute_result"
    }
   ],
   "source": [
    "vectors= pd.DataFrame(final_counts_tf.toarray(), columns=tfidf.get_feature_names_out())\n",
    "vectors"
   ]
  },
  {
   "cell_type": "code",
   "execution_count": 45,
   "id": "125ad4cc-5b80-4b33-8fe1-424197003027",
   "metadata": {},
   "outputs": [],
   "source": [
    "y= final['Score'].values"
   ]
  },
  {
   "cell_type": "code",
   "execution_count": 47,
   "id": "4be6dbe7-a459-4d68-8ded-9d25864e4212",
   "metadata": {},
   "outputs": [],
   "source": [
    "from sklearn.model_selection import train_test_split\n",
    "\n",
    "x_train, x_test, y_train, y_test= train_test_split(vectors, y, test_size=0.2, random_state=101)"
   ]
  },
  {
   "cell_type": "code",
   "execution_count": 50,
   "id": "8c27a264-0127-48a2-b0e3-5e7310c2324e",
   "metadata": {},
   "outputs": [
    {
     "data": {
      "text/plain": [
       "array([1, 1, 1, ..., 1, 0, 1], dtype=int64)"
      ]
     },
     "execution_count": 50,
     "metadata": {},
     "output_type": "execute_result"
    }
   ],
   "source": [
    "y_train"
   ]
  },
  {
   "cell_type": "code",
   "execution_count": 52,
   "id": "f1ee5007-6be4-4196-87d0-6c67836ac2f9",
   "metadata": {},
   "outputs": [],
   "source": [
    "from sklearn.metrics import accuracy_score, classification_report, confusion_matrix\n",
    "\n",
    "def evaluate_model(actual, predicted):\n",
    "    accuracy= accuracy_score(actual, predicted)\n",
    "    con_mat= confusion_matrix(actual, predicted)\n",
    "    classi_report= classification_report(actual, predicted)\n",
    "\n",
    "    return accuracy, con_mat, classi_report"
   ]
  },
  {
   "cell_type": "code",
   "execution_count": 53,
   "id": "9b13c93b-fdd8-456f-8302-3bd5859a2eee",
   "metadata": {},
   "outputs": [],
   "source": [
    "from sklearn.naive_bayes import MultinomialNB\n",
    "\n",
    "ratings= MultinomialNB().fit(x_train, y_train)\n",
    "y_pred_train_nb= ratings.predict(x_train)\n",
    "y_pred_test_nb= ratings.predict(x_test)    "
   ]
  },
  {
   "cell_type": "code",
   "execution_count": 54,
   "id": "46de1268-8dc1-478f-83bd-7d5c58c4502b",
   "metadata": {},
   "outputs": [
    {
     "data": {
      "text/plain": [
       "(0.8345017526289434,\n",
       " array([[   2,  660],\n",
       "        [   1, 3331]], dtype=int64),\n",
       " '              precision    recall  f1-score   support\\n\\n           0       0.67      0.00      0.01       662\\n           1       0.83      1.00      0.91      3332\\n\\n    accuracy                           0.83      3994\\n   macro avg       0.75      0.50      0.46      3994\\nweighted avg       0.81      0.83      0.76      3994\\n')"
      ]
     },
     "execution_count": 54,
     "metadata": {},
     "output_type": "execute_result"
    }
   ],
   "source": [
    "evaluate_model(y_train, y_pred_train_nb)"
   ]
  },
  {
   "cell_type": "code",
   "execution_count": 55,
   "id": "7eacb6a3-a6fe-4b54-b2ee-99c2eb451822",
   "metadata": {},
   "outputs": [
    {
     "data": {
      "text/plain": [
       "(0.8518518518518519,\n",
       " array([[  0, 148],\n",
       "        [  0, 851]], dtype=int64),\n",
       " '              precision    recall  f1-score   support\\n\\n           0       0.00      0.00      0.00       148\\n           1       0.85      1.00      0.92       851\\n\\n    accuracy                           0.85       999\\n   macro avg       0.43      0.50      0.46       999\\nweighted avg       0.73      0.85      0.78       999\\n')"
      ]
     },
     "execution_count": 55,
     "metadata": {},
     "output_type": "execute_result"
    }
   ],
   "source": [
    "evaluate_model(y_test, y_pred_test_nb)"
   ]
  },
  {
   "cell_type": "code",
   "execution_count": null,
   "id": "71cf7e53-a982-40b2-9027-44a9c27cbad1",
   "metadata": {},
   "outputs": [],
   "source": []
  }
 ],
 "metadata": {
  "kernelspec": {
   "display_name": "Python 3 (ipykernel)",
   "language": "python",
   "name": "python3"
  },
  "language_info": {
   "codemirror_mode": {
    "name": "ipython",
    "version": 3
   },
   "file_extension": ".py",
   "mimetype": "text/x-python",
   "name": "python",
   "nbconvert_exporter": "python",
   "pygments_lexer": "ipython3",
   "version": "3.10.13"
  }
 },
 "nbformat": 4,
 "nbformat_minor": 5
}
