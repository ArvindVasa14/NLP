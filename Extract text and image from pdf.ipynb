{
 "cells": [
  {
   "cell_type": "code",
   "execution_count": 1,
   "id": "5dfa40fd-2b82-4cb8-87a3-02eac420ea31",
   "metadata": {},
   "outputs": [
    {
     "name": "stderr",
     "output_type": "stream",
     "text": [
      "C:\\Users\\Arvind Vasa\\AppData\\Local\\Temp\\ipykernel_13412\\3535353653.py:3: DeprecationWarning: \n",
      "Pyarrow will become a required dependency of pandas in the next major release of pandas (pandas 3.0),\n",
      "(to allow more performant data types, such as the Arrow string type, and better interoperability with other libraries)\n",
      "but was not found to be installed on your system.\n",
      "If this would cause problems for you,\n",
      "please provide us feedback at https://github.com/pandas-dev/pandas/issues/54466\n",
      "        \n",
      "  import pandas as pd\n"
     ]
    }
   ],
   "source": [
    "import os, sys\n",
    "import numpy as np\n",
    "import pandas as pd"
   ]
  },
  {
   "cell_type": "code",
   "execution_count": 2,
   "id": "b05e42e2-4bc0-4c42-9e27-c53da65ad25e",
   "metadata": {},
   "outputs": [],
   "source": [
    "# Extract text from the pdf"
   ]
  },
  {
   "cell_type": "code",
   "execution_count": 3,
   "id": "1c7053b8-c219-496b-b4bd-6fdf2f9cf2ec",
   "metadata": {},
   "outputs": [
    {
     "name": "stdout",
     "output_type": "stream",
     "text": [
      "Collecting pdfminer.six\n",
      "  Downloading pdfminer.six-20231228-py3-none-any.whl (5.6 MB)\n",
      "     ---------------------------------------- 5.6/5.6 MB 3.7 MB/s eta 0:00:00\n",
      "Requirement already satisfied: charset-normalizer>=2.0.0 in c:\\users\\arvind vasa\\anaconda3\\lib\\site-packages (from pdfminer.six) (2.0.4)\n",
      "Requirement already satisfied: cryptography>=36.0.0 in c:\\users\\arvind vasa\\anaconda3\\lib\\site-packages (from pdfminer.six) (41.0.7)\n",
      "Requirement already satisfied: cffi>=1.12 in c:\\users\\arvind vasa\\anaconda3\\lib\\site-packages (from cryptography>=36.0.0->pdfminer.six) (1.16.0)\n",
      "Requirement already satisfied: pycparser in c:\\users\\arvind vasa\\anaconda3\\lib\\site-packages (from cffi>=1.12->cryptography>=36.0.0->pdfminer.six) (2.21)\n",
      "Installing collected packages: pdfminer.six\n",
      "Successfully installed pdfminer.six-20231228\n"
     ]
    }
   ],
   "source": [
    "!pip install pdfminer.six"
   ]
  },
  {
   "cell_type": "code",
   "execution_count": 5,
   "id": "7dcd52c4-87a8-492c-b60d-e1545770d037",
   "metadata": {},
   "outputs": [
    {
     "data": {
      "text/plain": [
       "'C:\\\\Users\\\\Arvind Vasa\\\\AI-ML\\\\NLP'"
      ]
     },
     "execution_count": 5,
     "metadata": {},
     "output_type": "execute_result"
    }
   ],
   "source": [
    "os.getcwd()"
   ]
  },
  {
   "cell_type": "code",
   "execution_count": 10,
   "id": "01c81469-f6c9-4ad8-a0ff-fdcefccc367c",
   "metadata": {},
   "outputs": [
    {
     "name": "stdout",
     "output_type": "stream",
     "text": [
      "<LTTextBoxHorizontal(0) 39.840,720.523,203.215,763.768 'GSTIN: 36AAECB3694E1ZO\\nPAN : AAECB3694E\\nCIN : U80302DL2010PTC211483\\n'>\n",
      "<LTTextBoxHorizontal(1) 308.640,690.808,550.456,763.531 'Great Lakes E-Learning Services Pvt. Ltd.\\nFirst Floor, 3C-1 to C-5/1F, Block B, Kavuri Hills,\\nGuttalabegumpet Village, Serilingampally Mandal,\\nHyderabad, Telangana, 500081\\nPh: +918047114422\\n'>\n",
      "<LTTextBoxHorizontal(2) 177.312,635.846,416.880,653.510 'TAX INVOICE-CUM-RECEIPT\\n'>\n",
      "<LTTextBoxHorizontal(3) 39.840,603.787,193.999,614.776 'Receipt No: HY/24/IN/0000274\\n'>\n",
      "<LTTextBoxHorizontal(4) 353.184,603.787,515.791,614.776 'Receipt Date: Wed 14 Jun, 2023\\n'>\n",
      "<LTTextBoxHorizontal(5) 39.840,576.139,170.606,587.128 'Program Name: GLCA-DA\\n'>\n",
      "<LTTextBoxHorizontal(6) 353.184,576.139,518.863,587.128 'Location: Hyderabad, Telangana\\n'>\n",
      "<LTTextBoxHorizontal(7) 39.840,548.491,223.100,559.480 'Name: Raghumandala Kranthi Kumar\\n'>\n",
      "<LTTextBoxHorizontal(8) 353.184,532.600,499.000,559.480 'Place of Supply: Hyderabad,\\nTelangana\\n'>\n",
      "<LTTextBoxHorizontal(9) 46.752,483.979,70.932,494.731 'S.No\\n'>\n",
      "<LTTextBoxHorizontal(10) 92.832,483.979,143.062,494.731 'Particular\\n'>\n",
      "<LTTextBoxHorizontal(11) 463.008,483.979,528.764,494.731 'Amount (Rs)\\n'>\n",
      "<LTTextBoxHorizontal(12) 46.752,455.032,55.864,465.784 '1.\\n'>\n",
      "<LTTextBoxHorizontal(13) 92.832,455.032,277.048,465.784 'Fees Paid towards GLCA-DA : others \\n'>\n",
      "<LTTextBoxHorizontal(14) 92.832,408.952,313.515,435.064 'Central Goods & Service Tax (CGST) @9.0%\\nState Goods & Service Tax (SGST) @9.0%\\n'>\n",
      "<LTTextBoxHorizontal(15) 92.832,303.736,381.308,314.488 'SAC: 999293(Commercial Coaching and Training Services)\\n'>\n",
      "<LTTextBoxHorizontal(16) 92.832,275.320,225.653,286.072 'Value of Supply of Services\\n'>\n",
      "<LTTextBoxHorizontal(17) 92.832,246.904,316.587,257.656 'Goods & Service Tax (CGST+SGST) @18.0%\\n'>\n",
      "<LTTextBoxHorizontal(18) 92.832,218.488,185.551,229.240 'Total Invoice Value\\n'>\n",
      "<LTTextBoxHorizontal(19) 494.496,455.032,547.196,465.784 '85526.00/-\\n'>\n",
      "<LTTextBoxHorizontal(20) 500.640,408.952,547.196,435.064 '7697.00/-\\n7697.00/-\\n'>\n",
      "<LTTextBoxHorizontal(21) 494.496,275.320,547.196,286.072 '85526.00/-\\n'>\n",
      "<LTTextBoxHorizontal(22) 494.496,246.904,547.196,257.656 '15394.00/-\\n'>\n",
      "<LTTextBoxHorizontal(23) 488.352,218.251,547.196,229.003 '100920.00/-\\n'>\n",
      "<LTTextBoxHorizontal(24) 97.824,189.067,496.207,199.819 'Total Amount (In Words) : One Lakh Nine Hundred and Twenty Rupees only\\n'>\n",
      "<LTTextBoxHorizontal(25) 39.840,120.184,425.272,161.666 '* This is an electronically generated receipt and does not require any signature \\n* Payment is subject to settlement \\n* Reverse Charge is not applicable \\n'>\n",
      "<LTRect 28.320,119.408,565.920,813.680>\n",
      "<LTRect 39.840,673.904,554.400,674.672>\n",
      "<LTRect 39.840,504.176,86.688,504.944>\n",
      "<LTRect 39.840,475.760,86.688,476.528>\n",
      "<LTRect 39.840,475.760,40.608,504.944>\n",
      "<LTRect 85.920,475.760,86.688,504.944>\n",
      "<LTRect 85.920,504.176,456.864,504.944>\n",
      "<LTRect 85.920,475.760,456.864,476.528>\n",
      "<LTRect 85.920,475.760,86.688,504.944>\n",
      "<LTRect 456.096,475.760,456.864,504.944>\n",
      "<LTRect 456.096,504.176,554.400,504.944>\n",
      "<LTRect 456.096,475.760,554.400,476.528>\n",
      "<LTRect 456.096,475.760,456.864,504.944>\n",
      "<LTRect 553.632,475.760,554.400,504.944>\n",
      "<LTRect 39.840,475.760,86.688,476.528>\n",
      "<LTRect 39.840,324.464,86.688,325.232>\n",
      "<LTRect 39.840,324.464,40.608,476.528>\n",
      "<LTRect 85.920,324.464,86.688,476.528>\n",
      "<LTRect 85.920,475.760,456.864,476.528>\n",
      "<LTRect 85.920,324.464,456.864,325.232>\n",
      "<LTRect 85.920,324.464,86.688,476.528>\n",
      "<LTRect 456.096,324.464,456.864,476.528>\n",
      "<LTRect 456.096,475.760,554.400,476.528>\n",
      "<LTRect 456.096,324.464,554.400,325.232>\n",
      "<LTRect 456.096,324.464,456.864,476.528>\n",
      "<LTRect 553.632,324.464,554.400,476.528>\n",
      "<LTRect 39.840,324.464,86.688,325.232>\n",
      "<LTRect 39.840,296.048,86.688,296.816>\n",
      "<LTRect 39.840,296.048,40.608,325.232>\n",
      "<LTRect 85.920,296.048,86.688,325.232>\n",
      "<LTRect 85.920,324.464,456.864,325.232>\n",
      "<LTRect 85.920,296.048,456.864,296.816>\n",
      "<LTRect 85.920,296.048,86.688,325.232>\n",
      "<LTRect 456.096,296.048,456.864,325.232>\n",
      "<LTRect 456.096,324.464,554.400,325.232>\n",
      "<LTRect 456.096,296.048,554.400,296.816>\n",
      "<LTRect 456.096,296.048,456.864,325.232>\n",
      "<LTRect 553.632,296.048,554.400,325.232>\n",
      "<LTRect 39.840,296.048,86.688,296.816>\n",
      "<LTRect 39.840,267.632,86.688,268.400>\n",
      "<LTRect 39.840,267.632,40.608,296.816>\n",
      "<LTRect 85.920,267.632,86.688,296.816>\n",
      "<LTRect 85.920,296.048,456.864,296.816>\n",
      "<LTRect 85.920,267.632,456.864,268.400>\n",
      "<LTRect 85.920,267.632,86.688,296.816>\n",
      "<LTRect 456.096,267.632,456.864,296.816>\n",
      "<LTRect 456.096,296.048,554.400,296.816>\n",
      "<LTRect 456.096,267.632,554.400,268.400>\n",
      "<LTRect 456.096,267.632,456.864,296.816>\n",
      "<LTRect 553.632,267.632,554.400,296.816>\n",
      "<LTRect 39.840,267.632,86.688,268.400>\n",
      "<LTRect 39.840,239.216,86.688,239.984>\n",
      "<LTRect 39.840,239.216,40.608,268.400>\n",
      "<LTRect 85.920,239.216,86.688,268.400>\n",
      "<LTRect 85.920,267.632,456.864,268.400>\n",
      "<LTRect 85.920,239.216,456.864,239.984>\n",
      "<LTRect 85.920,239.216,86.688,268.400>\n",
      "<LTRect 456.096,239.216,456.864,268.400>\n",
      "<LTRect 456.096,267.632,554.400,268.400>\n",
      "<LTRect 456.096,239.216,554.400,239.984>\n",
      "<LTRect 456.096,239.216,456.864,268.400>\n",
      "<LTRect 553.632,239.216,554.400,268.400>\n",
      "<LTRect 39.840,239.216,86.688,239.984>\n",
      "<LTRect 39.840,210.032,86.688,210.800>\n",
      "<LTRect 39.840,210.032,40.608,239.984>\n",
      "<LTRect 85.920,210.032,86.688,239.984>\n",
      "<LTRect 85.920,239.216,456.864,239.984>\n",
      "<LTRect 85.920,210.032,456.864,210.800>\n",
      "<LTRect 85.920,210.032,86.688,239.984>\n",
      "<LTRect 456.096,210.032,456.864,239.984>\n",
      "<LTRect 456.096,239.216,554.400,239.984>\n",
      "<LTRect 456.096,210.032,554.400,210.800>\n",
      "<LTRect 456.096,210.032,456.864,239.984>\n",
      "<LTRect 553.632,210.032,554.400,239.984>\n",
      "<LTRect 39.840,210.032,554.400,210.800>\n",
      "<LTRect 39.840,180.848,554.400,181.616>\n",
      "<LTRect 39.840,180.848,40.608,210.800>\n",
      "<LTRect 553.632,180.848,554.400,210.800>\n",
      "<LTCurve 39.840,785.951,61.987,813.680>\n",
      "<LTCurve 39.840,790.617,61.987,813.680>\n",
      "<LTCurve 50.072,790.032,62.000,802.008>\n",
      "<LTCurve 130.302,788.992,135.538,793.991>\n",
      "<LTCurve 127.719,782.998,138.066,796.236>\n",
      "<LTCurve 117.783,785.755,126.831,796.015>\n",
      "<LTCurve 114.069,796.613,116.719,799.005>\n",
      "<LTCurve 114.102,785.755,116.686,795.813>\n",
      "<LTCurve 103.941,785.755,112.989,796.015>\n",
      "<LTCurve 89.541,787.742,93.660,790.517>\n",
      "<LTCurve 87.013,785.774,96.116,796.162>\n",
      "<LTCurve 79.421,791.860,83.980,794.065>\n",
      "<LTCurve 76.844,785.755,86.551,796.236>\n",
      "<LTCurve 67.736,785.976,77.076,799.195>\n",
      "<LTCurve 97.183,785.755,103.191,796.027>\n",
      "<LTCurve 106.596,800.075,112.989,812.963>\n",
      "<LTCurve 99.722,802.006,103.841,804.781>\n",
      "<LTCurve 97.194,800.038,106.297,810.426>\n",
      "<LTCurve 89.603,806.124,94.162,808.329>\n",
      "<LTCurve 87.026,800.020,96.733,810.500>\n",
      "<LTCurve 81.089,800.020,87.096,810.291>\n",
      "<LTCurve 67.736,800.020,80.080,813.680>\n",
      "<LTLine 177.312,639.728,416.928,639.728>\n"
     ]
    }
   ],
   "source": [
    "import re\n",
    "from pdfminer.high_level import extract_pages, extract_text\n",
    "\n",
    "for page_layout in extract_pages('total amout.pdf'):\n",
    "    for element in page_layout:\n",
    "        print(element)"
   ]
  },
  {
   "cell_type": "code",
   "execution_count": 13,
   "id": "4bfba715-b58f-4c9c-a01a-8342b6267913",
   "metadata": {},
   "outputs": [
    {
     "name": "stdout",
     "output_type": "stream",
     "text": [
      "GSTIN: 36AAECB3694E1ZO\n",
      "PAN : AAECB3694E\n",
      "CIN : U80302DL2010PTC211483\n",
      "\n",
      "Great Lakes E-Learning Services Pvt. Ltd.\n",
      "First Floor, 3C-1 to C-5/1F, Block B, Kavuri Hills,\n",
      "Guttalabegumpet Village, Serilingampally Mandal,\n",
      "Hyderabad, Telangana, 500081\n",
      "Ph: +918047114422\n",
      "\n",
      "TAX INVOICE-CUM-RECEIPT\n",
      "\n",
      "Receipt No: HY/24/IN/0000274\n",
      "\n",
      "Receipt Date: Wed 14 Jun, 2023\n",
      "\n",
      "Program Name: GLCA-DA\n",
      "\n",
      "Location: Hyderabad, Telangana\n",
      "\n",
      "Name: Raghumandala Kranthi Kumar\n",
      "\n",
      "Place of Supply: Hyderabad,\n",
      "Telangana\n",
      "\n",
      "S.No\n",
      "\n",
      "Particular\n",
      "\n",
      "Amount (Rs)\n",
      "\n",
      "1.\n",
      "\n",
      "Fees Paid towards GLCA-DA : others \n",
      "\n",
      "Central Goods & Service Tax (CGST) @9.0%\n",
      "State Goods & Service Tax (SGST) @9.0%\n",
      "\n",
      "SAC: 999293(Commercial Coaching and Training Services)\n",
      "\n",
      "Value of Supply of Services\n",
      "\n",
      "Goods & Service Tax (CGST+SGST) @18.0%\n",
      "\n",
      "Total Invoice Value\n",
      "\n",
      "85526.00/-\n",
      "\n",
      "7697.00/-\n",
      "7697.00/-\n",
      "\n",
      "85526.00/-\n",
      "\n",
      "15394.00/-\n",
      "\n",
      "100920.00/-\n",
      "\n",
      "Total Amount (In Words) : One Lakh Nine Hundred and Twenty Rupees only\n",
      "\n",
      "* This is an electronically generated receipt and does not require any signature \n",
      "* Payment is subject to settlement \n",
      "* Reverse Charge is not applicable \n",
      "\n",
      "\f",
      "\n"
     ]
    }
   ],
   "source": [
    "text= extract_text('total amout.pdf')\n",
    "print(text)"
   ]
  },
  {
   "cell_type": "code",
   "execution_count": 23,
   "id": "5046f6ee-67cc-4f3d-8ad0-568eb5002e03",
   "metadata": {},
   "outputs": [
    {
     "data": {
      "text/plain": [
       "'gstin aaecb e zo pan aaecb e cin u dl ptc great lakes e learning services pvt ltd first floor c c f block b kavuri hills guttalabegumpet village serilingampally mandal hyderabad telangana ph tax invoice cum receipt receipt no hy in receipt date wed jun program name glca da location hyderabad telangana name raghumandala kranthi kumar place supply hyderabad telangana s no particular amount rs fees paid towards glca da others central goods service tax cgst state goods service tax sgst sac commercial coaching training services value supply services goods service tax cgst sgst total invoice value total amount in words one lakh nine hundred twenty rupees this electronically generated receipt require signature payment subject settlement reverse charge applicable'"
      ]
     },
     "execution_count": 23,
     "metadata": {},
     "output_type": "execute_result"
    }
   ],
   "source": [
    "from nltk.corpus import stopwords\n",
    "\n",
    "text2= re.sub('[^a-zA-Z]+', ' ', text)\n",
    "text3=[]\n",
    "for i in text2.split():\n",
    "    if i not in stopwords.words('english'):\n",
    "        text3.append(i.lower())\n",
    "' '.join(text3)"
   ]
  },
  {
   "cell_type": "code",
   "execution_count": 27,
   "id": "13e9ee4c-a4af-41d2-bf66-d47071672254",
   "metadata": {},
   "outputs": [
    {
     "data": {
      "text/plain": [
       "array([[0., 0., 0., ..., 0., 0., 0.],\n",
       "       [1., 0., 0., ..., 0., 0., 0.],\n",
       "       [0., 0., 0., ..., 0., 0., 0.],\n",
       "       ...,\n",
       "       [0., 0., 0., ..., 0., 0., 0.],\n",
       "       [0., 0., 0., ..., 0., 0., 0.],\n",
       "       [0., 0., 1., ..., 0., 0., 0.]])"
      ]
     },
     "execution_count": 27,
     "metadata": {},
     "output_type": "execute_result"
    }
   ],
   "source": [
    "from sklearn.feature_extraction.text import TfidfVectorizer\n",
    "\n",
    "tf= TfidfVectorizer()\n",
    "\n",
    "text4= tf.fit_transform(text3)\n",
    "text4.toarray()"
   ]
  },
  {
   "cell_type": "code",
   "execution_count": null,
   "id": "12dda2e5-b058-4ebb-92c2-36f5710f7d1c",
   "metadata": {},
   "outputs": [],
   "source": []
  }
 ],
 "metadata": {
  "kernelspec": {
   "display_name": "Python 3 (ipykernel)",
   "language": "python",
   "name": "python3"
  },
  "language_info": {
   "codemirror_mode": {
    "name": "ipython",
    "version": 3
   },
   "file_extension": ".py",
   "mimetype": "text/x-python",
   "name": "python",
   "nbconvert_exporter": "python",
   "pygments_lexer": "ipython3",
   "version": "3.10.13"
  }
 },
 "nbformat": 4,
 "nbformat_minor": 5
}
