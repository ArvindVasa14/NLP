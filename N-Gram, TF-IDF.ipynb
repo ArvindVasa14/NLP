{
 "cells": [
  {
   "cell_type": "code",
   "execution_count": 1,
   "id": "5760b6a1-00a3-4f09-94d3-63f50c2e4820",
   "metadata": {},
   "outputs": [],
   "source": [
    "#TEXT BLOB"
   ]
  },
  {
   "cell_type": "code",
   "execution_count": 2,
   "id": "c68caed6-4f37-46d1-938c-b7b141a231f8",
   "metadata": {},
   "outputs": [
    {
     "name": "stdout",
     "output_type": "stream",
     "text": [
      "Collecting textblob\n",
      "  Downloading textblob-0.17.1-py2.py3-none-any.whl (636 kB)\n",
      "     -------------------------------------- 636.8/636.8 kB 2.5 MB/s eta 0:00:00\n",
      "Requirement already satisfied: nltk>=3.1 in c:\\users\\arvind vasa\\anaconda3\\lib\\site-packages (from textblob) (3.8.1)\n",
      "Requirement already satisfied: click in c:\\users\\arvind vasa\\anaconda3\\lib\\site-packages (from nltk>=3.1->textblob) (8.1.7)\n",
      "Requirement already satisfied: joblib in c:\\users\\arvind vasa\\anaconda3\\lib\\site-packages (from nltk>=3.1->textblob) (1.3.2)\n",
      "Requirement already satisfied: tqdm in c:\\users\\arvind vasa\\anaconda3\\lib\\site-packages (from nltk>=3.1->textblob) (4.65.0)\n",
      "Requirement already satisfied: regex>=2021.8.3 in c:\\users\\arvind vasa\\anaconda3\\lib\\site-packages (from nltk>=3.1->textblob) (2023.12.25)\n",
      "Requirement already satisfied: colorama in c:\\users\\arvind vasa\\anaconda3\\lib\\site-packages (from click->nltk>=3.1->textblob) (0.4.6)\n",
      "Installing collected packages: textblob\n",
      "Successfully installed textblob-0.17.1\n"
     ]
    },
    {
     "name": "stderr",
     "output_type": "stream",
     "text": [
      "C:\\Users\\Arvind Vasa\\AppData\\Local\\Programs\\Python\\Python311\\python.exe: Error while finding module specification for 'textblob.download_corpora' (ModuleNotFoundError: No module named 'textblob')\n"
     ]
    }
   ],
   "source": [
    "!pip install -U textblob\n",
    "!python -m textblob.download_corpora"
   ]
  },
  {
   "cell_type": "code",
   "execution_count": 3,
   "id": "1bcbe643-4d61-476e-8862-2e2c55250846",
   "metadata": {},
   "outputs": [],
   "source": [
    "from textblob import TextBlob"
   ]
  },
  {
   "cell_type": "markdown",
   "id": "b3fba494-48a7-411c-9301-734c65667acd",
   "metadata": {},
   "source": [
    "## N GRAM"
   ]
  },
  {
   "cell_type": "code",
   "execution_count": 8,
   "id": "7ebba2f8-e480-4661-a60c-8fa52008a82c",
   "metadata": {},
   "outputs": [],
   "source": [
    "blob= TextBlob('Hello, Good morning everyone Hope all are you doing well')"
   ]
  },
  {
   "cell_type": "code",
   "execution_count": 10,
   "id": "f7b5f01f-b285-42f4-99cc-9fd20243ff02",
   "metadata": {},
   "outputs": [
    {
     "data": {
      "text/plain": [
       "[WordList(['Hello']),\n",
       " WordList(['Good']),\n",
       " WordList(['morning']),\n",
       " WordList(['everyone']),\n",
       " WordList(['Hope']),\n",
       " WordList(['all']),\n",
       " WordList(['are']),\n",
       " WordList(['you']),\n",
       " WordList(['doing']),\n",
       " WordList(['well'])]"
      ]
     },
     "execution_count": 10,
     "metadata": {},
     "output_type": "execute_result"
    }
   ],
   "source": [
    "# unigram\n",
    "blob.ngrams(n=1)"
   ]
  },
  {
   "cell_type": "code",
   "execution_count": 11,
   "id": "b02b3856-0c50-441f-aa2f-7d5b527a4281",
   "metadata": {},
   "outputs": [
    {
     "data": {
      "text/plain": [
       "[WordList(['Hello', 'Good']),\n",
       " WordList(['Good', 'morning']),\n",
       " WordList(['morning', 'everyone']),\n",
       " WordList(['everyone', 'Hope']),\n",
       " WordList(['Hope', 'all']),\n",
       " WordList(['all', 'are']),\n",
       " WordList(['are', 'you']),\n",
       " WordList(['you', 'doing']),\n",
       " WordList(['doing', 'well'])]"
      ]
     },
     "execution_count": 11,
     "metadata": {},
     "output_type": "execute_result"
    }
   ],
   "source": [
    "# bigram\n",
    "blob.ngrams(n=2)"
   ]
  },
  {
   "cell_type": "code",
   "execution_count": 12,
   "id": "0d2f7bfd-2e55-4b9c-bf70-508b74d45e27",
   "metadata": {},
   "outputs": [
    {
     "data": {
      "text/plain": [
       "[WordList(['Hello', 'Good', 'morning']),\n",
       " WordList(['Good', 'morning', 'everyone']),\n",
       " WordList(['morning', 'everyone', 'Hope']),\n",
       " WordList(['everyone', 'Hope', 'all']),\n",
       " WordList(['Hope', 'all', 'are']),\n",
       " WordList(['all', 'are', 'you']),\n",
       " WordList(['are', 'you', 'doing']),\n",
       " WordList(['you', 'doing', 'well'])]"
      ]
     },
     "execution_count": 12,
     "metadata": {},
     "output_type": "execute_result"
    }
   ],
   "source": [
    "# trigram\n",
    "blob.ngrams(n=3)"
   ]
  },
  {
   "cell_type": "code",
   "execution_count": 13,
   "id": "2fee7137-b3c7-4718-8647-9178865dcee3",
   "metadata": {},
   "outputs": [],
   "source": [
    "from textblob import Word\n",
    "from textblob.wordnet import VERB"
   ]
  },
  {
   "cell_type": "code",
   "execution_count": 15,
   "id": "f9107db3-543b-4166-9130-7e0abb642e32",
   "metadata": {},
   "outputs": [
    {
     "data": {
      "text/plain": [
       "TextBlob(\"you are good.He is simply brilliantI am teaching NLPHe is expert in NLPyou are doing well\")"
      ]
     },
     "execution_count": 15,
     "metadata": {},
     "output_type": "execute_result"
    }
   ],
   "source": [
    "my_sentence= TextBlob(\"you are good.\"\n",
    "                     \"He is simply brilliant\"\n",
    "                      \"I am teaching NLP\"\n",
    "                      \"He is expert in NLP\"\n",
    "                      \"you are doing well\")\n",
    "my_sentence"
   ]
  },
  {
   "cell_type": "code",
   "execution_count": 16,
   "id": "20a26af1-62c3-45a6-a29c-411038d01ecc",
   "metadata": {},
   "outputs": [
    {
     "data": {
      "text/plain": [
       "2"
      ]
     },
     "execution_count": 16,
     "metadata": {},
     "output_type": "execute_result"
    }
   ],
   "source": [
    "my_sentence.words.count('is')"
   ]
  },
  {
   "cell_type": "code",
   "execution_count": 18,
   "id": "657eb398-25fd-4167-9ad7-6072fdda2c99",
   "metadata": {},
   "outputs": [
    {
     "data": {
      "text/plain": [
       "[Sentence(\"you are good.He is simply brilliantI am teaching NLPHe is expert in NLPyou are doing well\")]"
      ]
     },
     "execution_count": 18,
     "metadata": {},
     "output_type": "execute_result"
    }
   ],
   "source": [
    "my_sentence.sentences"
   ]
  },
  {
   "cell_type": "code",
   "execution_count": 20,
   "id": "b3722a93-a548-480d-b5ae-0247eb02aa28",
   "metadata": {},
   "outputs": [],
   "source": [
    "sentence = '''Former U.S. President Donald Trump has established a significant lead over other Republican Party candidates in the first formal event of the election season, the Iowa caucuses. This puts him in pole position to be the Republican nominee for the November 2024 presidential election, even though the nomination process through state-level primaries and caucuses is usually hard-fought and can produce surprise outcomes. While the 45th President scooped up 20 delegates in Iowa, far ahead of the nine delegates of Florida Governor Ron DeSantis and eight delegates of former South Carolina Governor Nikki Haley, in order to win the Party’s nomination a candidate would require a total of 1,215 delegates. Meanwhile, the next Republican presidential debate was cancelled after Ms. Haley declined to appear on stage unless Mr. Trump participates too, something he has refused to do so far. Indeed, it is Ms. Haley who perhaps represents the greatest possibility of posing a challenge to Mr. Trump, and the next Republican contest in New Hampshire, a swing state, will be her best opportunity to dent his momentum. The state has a more white and rural population and nearly 40% of its electorate is comprised of independent voters who may prefer a more moderate candidate than Mr. Trump.\n",
    "\n",
    "Regardless of what twists of fate might lie ahead for the three candidates in the Republican primaries, it is clear from the Iowa results that Mr. Trump has bounced back from what some consider the political embarrassment and legal quagmires of the four indictments that he has been slapped with for alleged improprieties of conduct during his time in office. The latest voting suggests that his popularity among conservatives has not dwindled much; contrarily, he appears to be their candidate of choice more than in previous elections. The Iowa caucuses surveys suggest that nearly 50% of Republican considered themselves to be members of Mr. Trump’s “Make America Great Again” movement, and the breadth of his victory included older and younger age cohorts, men and women, and far-right and evangelical caucus-goers. Reports from Iowa indicate that nearly 90% among this group believed the Trump campaign falsehoods that the 2020 election was “stolen” and thus tend to overlook federal and state charges that he faces relating to the January 6, 2021 attack on the U.S. Capitol and election interference in Georgia. An early assessment of Mr. Trump’s overall position suggests that he would be well placed to win his party’s nomination and perhaps successfully challenge his Democratic rival, incumbent Joe Biden, in November. Whether this will be a positive development favouring the U.S.’s long-term national interest is an entirely different'''\n"
   ]
  },
  {
   "cell_type": "code",
   "execution_count": 21,
   "id": "26b3d410-ef23-4535-9918-2b0b5484d036",
   "metadata": {},
   "outputs": [
    {
     "data": {
      "text/plain": [
       "'Former U.S. President Donald Trump has established a significant lead over other Republican Party candidates in the first formal event of the election season, the Iowa caucuses. This puts him in pole position to be the Republican nominee for the November 2024 presidential election, even though the nomination process through state-level primaries and caucuses is usually hard-fought and can produce surprise outcomes. While the 45th President scooped up 20 delegates in Iowa, far ahead of the nine delegates of Florida Governor Ron DeSantis and eight delegates of former South Carolina Governor Nikki Haley, in order to win the Party’s nomination a candidate would require a total of 1,215 delegates. Meanwhile, the next Republican presidential debate was cancelled after Ms. Haley declined to appear on stage unless Mr. Trump participates too, something he has refused to do so far. Indeed, it is Ms. Haley who perhaps represents the greatest possibility of posing a challenge to Mr. Trump, and the next Republican contest in New Hampshire, a swing state, will be her best opportunity to dent his momentum. The state has a more white and rural population and nearly 40% of its electorate is comprised of independent voters who may prefer a more moderate candidate than Mr. Trump.\\n\\nRegardless of what twists of fate might lie ahead for the three candidates in the Republican primaries, it is clear from the Iowa results that Mr. Trump has bounced back from what some consider the political embarrassment and legal quagmires of the four indictments that he has been slapped with for alleged improprieties of conduct during his time in office. The latest voting suggests that his popularity among conservatives has not dwindled much; contrarily, he appears to be their candidate of choice more than in previous elections. The Iowa caucuses surveys suggest that nearly 50% of Republican considered themselves to be members of Mr. Trump’s “Make America Great Again” movement, and the breadth of his victory included older and younger age cohorts, men and women, and far-right and evangelical caucus-goers. Reports from Iowa indicate that nearly 90% among this group believed the Trump campaign falsehoods that the 2020 election was “stolen” and thus tend to overlook federal and state charges that he faces relating to the January 6, 2021 attack on the U.S. Capitol and election interference in Georgia. An early assessment of Mr. Trump’s overall position suggests that he would be well placed to win his party’s nomination and perhaps successfully challenge his Democratic rival, incumbent Joe Biden, in November. Whether this will be a positive development favouring the U.S.’s long-term national interest is an entirely different'"
      ]
     },
     "execution_count": 21,
     "metadata": {},
     "output_type": "execute_result"
    }
   ],
   "source": [
    "sentence"
   ]
  },
  {
   "cell_type": "code",
   "execution_count": null,
   "id": "f2549645-7f08-40f4-a2ac-c966ce54af42",
   "metadata": {},
   "outputs": [],
   "source": []
  },
  {
   "cell_type": "code",
   "execution_count": 24,
   "id": "2c6bb542-2393-4bd7-afaa-1e376bd74d14",
   "metadata": {},
   "outputs": [
    {
     "data": {
      "text/plain": [
       "defaultdict(int,\n",
       "            {'former': 2,\n",
       "             'u.s': 3,\n",
       "             'president': 2,\n",
       "             'donald': 1,\n",
       "             'trump': 8,\n",
       "             'has': 6,\n",
       "             'established': 1,\n",
       "             'a': 8,\n",
       "             'significant': 1,\n",
       "             'lead': 1,\n",
       "             'over': 1,\n",
       "             'other': 1,\n",
       "             'republican': 6,\n",
       "             'party': 3,\n",
       "             'candidates': 2,\n",
       "             'in': 10,\n",
       "             'the': 26,\n",
       "             'first': 1,\n",
       "             'formal': 1,\n",
       "             'event': 1,\n",
       "             'of': 17,\n",
       "             'election': 4,\n",
       "             'season': 1,\n",
       "             'iowa': 5,\n",
       "             'caucuses': 3,\n",
       "             'this': 3,\n",
       "             'puts': 1,\n",
       "             'him': 1,\n",
       "             'pole': 1,\n",
       "             'position': 2,\n",
       "             'to': 11,\n",
       "             'be': 6,\n",
       "             'nominee': 1,\n",
       "             'for': 3,\n",
       "             'november': 2,\n",
       "             '2024': 1,\n",
       "             'presidential': 2,\n",
       "             'even': 1,\n",
       "             'though': 1,\n",
       "             'nomination': 3,\n",
       "             'process': 1,\n",
       "             'through': 1,\n",
       "             'state-level': 1,\n",
       "             'primaries': 2,\n",
       "             'and': 16,\n",
       "             'is': 5,\n",
       "             'usually': 1,\n",
       "             'hard-fought': 1,\n",
       "             'can': 1,\n",
       "             'produce': 1,\n",
       "             'surprise': 1,\n",
       "             'outcomes': 1,\n",
       "             'while': 1,\n",
       "             '45th': 1,\n",
       "             'scooped': 1,\n",
       "             'up': 1,\n",
       "             '20': 1,\n",
       "             'delegates': 4,\n",
       "             'far': 2,\n",
       "             'ahead': 2,\n",
       "             'nine': 1,\n",
       "             'florida': 1,\n",
       "             'governor': 2,\n",
       "             'ron': 1,\n",
       "             'desantis': 1,\n",
       "             'eight': 1,\n",
       "             'south': 1,\n",
       "             'carolina': 1,\n",
       "             'nikki': 1,\n",
       "             'haley': 3,\n",
       "             'order': 1,\n",
       "             'win': 2,\n",
       "             '’': 5,\n",
       "             's': 5,\n",
       "             'candidate': 3,\n",
       "             'would': 2,\n",
       "             'require': 1,\n",
       "             'total': 1,\n",
       "             '1,215': 1,\n",
       "             'meanwhile': 1,\n",
       "             'next': 2,\n",
       "             'debate': 1,\n",
       "             'was': 2,\n",
       "             'cancelled': 1,\n",
       "             'after': 1,\n",
       "             'ms': 2,\n",
       "             'declined': 1,\n",
       "             'appear': 1,\n",
       "             'on': 2,\n",
       "             'stage': 1,\n",
       "             'unless': 1,\n",
       "             'mr': 6,\n",
       "             'participates': 1,\n",
       "             'too': 1,\n",
       "             'something': 1,\n",
       "             'he': 5,\n",
       "             'refused': 1,\n",
       "             'do': 1,\n",
       "             'so': 1,\n",
       "             'indeed': 1,\n",
       "             'it': 2,\n",
       "             'who': 2,\n",
       "             'perhaps': 2,\n",
       "             'represents': 1,\n",
       "             'greatest': 1,\n",
       "             'possibility': 1,\n",
       "             'posing': 1,\n",
       "             'challenge': 2,\n",
       "             'contest': 1,\n",
       "             'new': 1,\n",
       "             'hampshire': 1,\n",
       "             'swing': 1,\n",
       "             'state': 3,\n",
       "             'will': 2,\n",
       "             'her': 1,\n",
       "             'best': 1,\n",
       "             'opportunity': 1,\n",
       "             'dent': 1,\n",
       "             'his': 6,\n",
       "             'momentum': 1,\n",
       "             'more': 3,\n",
       "             'white': 1,\n",
       "             'rural': 1,\n",
       "             'population': 1,\n",
       "             'nearly': 3,\n",
       "             '40': 1,\n",
       "             'its': 1,\n",
       "             'electorate': 1,\n",
       "             'comprised': 1,\n",
       "             'independent': 1,\n",
       "             'voters': 1,\n",
       "             'may': 1,\n",
       "             'prefer': 1,\n",
       "             'moderate': 1,\n",
       "             'than': 2,\n",
       "             'regardless': 1,\n",
       "             'what': 2,\n",
       "             'twists': 1,\n",
       "             'fate': 1,\n",
       "             'might': 1,\n",
       "             'lie': 1,\n",
       "             'three': 1,\n",
       "             'clear': 1,\n",
       "             'from': 3,\n",
       "             'results': 1,\n",
       "             'that': 8,\n",
       "             'bounced': 1,\n",
       "             'back': 1,\n",
       "             'some': 1,\n",
       "             'consider': 1,\n",
       "             'political': 1,\n",
       "             'embarrassment': 1,\n",
       "             'legal': 1,\n",
       "             'quagmires': 1,\n",
       "             'four': 1,\n",
       "             'indictments': 1,\n",
       "             'been': 1,\n",
       "             'slapped': 1,\n",
       "             'with': 1,\n",
       "             'alleged': 1,\n",
       "             'improprieties': 1,\n",
       "             'conduct': 1,\n",
       "             'during': 1,\n",
       "             'time': 1,\n",
       "             'office': 1,\n",
       "             'latest': 1,\n",
       "             'voting': 1,\n",
       "             'suggests': 2,\n",
       "             'popularity': 1,\n",
       "             'among': 2,\n",
       "             'conservatives': 1,\n",
       "             'not': 1,\n",
       "             'dwindled': 1,\n",
       "             'much': 1,\n",
       "             'contrarily': 1,\n",
       "             'appears': 1,\n",
       "             'their': 1,\n",
       "             'choice': 1,\n",
       "             'previous': 1,\n",
       "             'elections': 1,\n",
       "             'surveys': 1,\n",
       "             'suggest': 1,\n",
       "             '50': 1,\n",
       "             'considered': 1,\n",
       "             'themselves': 1,\n",
       "             'members': 1,\n",
       "             '“': 2,\n",
       "             'make': 1,\n",
       "             'america': 1,\n",
       "             'great': 1,\n",
       "             'again': 1,\n",
       "             '”': 2,\n",
       "             'movement': 1,\n",
       "             'breadth': 1,\n",
       "             'victory': 1,\n",
       "             'included': 1,\n",
       "             'older': 1,\n",
       "             'younger': 1,\n",
       "             'age': 1,\n",
       "             'cohorts': 1,\n",
       "             'men': 1,\n",
       "             'women': 1,\n",
       "             'far-right': 1,\n",
       "             'evangelical': 1,\n",
       "             'caucus-goers': 1,\n",
       "             'reports': 1,\n",
       "             'indicate': 1,\n",
       "             '90': 1,\n",
       "             'group': 1,\n",
       "             'believed': 1,\n",
       "             'campaign': 1,\n",
       "             'falsehoods': 1,\n",
       "             '2020': 1,\n",
       "             'stolen': 1,\n",
       "             'thus': 1,\n",
       "             'tend': 1,\n",
       "             'overlook': 1,\n",
       "             'federal': 1,\n",
       "             'charges': 1,\n",
       "             'faces': 1,\n",
       "             'relating': 1,\n",
       "             'january': 1,\n",
       "             '6': 1,\n",
       "             '2021': 1,\n",
       "             'attack': 1,\n",
       "             'capitol': 1,\n",
       "             'interference': 1,\n",
       "             'georgia': 1,\n",
       "             'an': 2,\n",
       "             'early': 1,\n",
       "             'assessment': 1,\n",
       "             'overall': 1,\n",
       "             'well': 1,\n",
       "             'placed': 1,\n",
       "             'successfully': 1,\n",
       "             'democratic': 1,\n",
       "             'rival': 1,\n",
       "             'incumbent': 1,\n",
       "             'joe': 1,\n",
       "             'biden': 1,\n",
       "             'whether': 1,\n",
       "             'positive': 1,\n",
       "             'development': 1,\n",
       "             'favouring': 1,\n",
       "             'long-term': 1,\n",
       "             'national': 1,\n",
       "             'interest': 1,\n",
       "             'entirely': 1,\n",
       "             'different': 1})"
      ]
     },
     "execution_count": 24,
     "metadata": {},
     "output_type": "execute_result"
    }
   ],
   "source": [
    "TextBlob(sentence).word_counts"
   ]
  },
  {
   "cell_type": "code",
   "execution_count": null,
   "id": "e55f7baf-8497-4b01-b77b-e8992f239518",
   "metadata": {},
   "outputs": [],
   "source": [
    "sentence= TextBlob(sentence)"
   ]
  },
  {
   "cell_type": "code",
   "execution_count": 27,
   "id": "0b842022-9948-4238-9f5c-881e13579a52",
   "metadata": {},
   "outputs": [
    {
     "data": {
      "text/plain": [
       "'Presidents'"
      ]
     },
     "execution_count": 27,
     "metadata": {},
     "output_type": "execute_result"
    }
   ],
   "source": [
    "sentence.words[2].pluralize()"
   ]
  },
  {
   "cell_type": "code",
   "execution_count": 34,
   "id": "f31a6d3c-2eb1-4b07-b154-934a26170d55",
   "metadata": {},
   "outputs": [],
   "source": [
    "sentence2= TextBlob('go goes make makes sheep')"
   ]
  },
  {
   "cell_type": "code",
   "execution_count": 36,
   "id": "0ba8ae22-6af2-40ee-a5ab-3180411e349f",
   "metadata": {},
   "outputs": [
    {
     "data": {
      "text/plain": [
       "'goes'"
      ]
     },
     "execution_count": 36,
     "metadata": {},
     "output_type": "execute_result"
    }
   ],
   "source": [
    "sentence2.words[0].pluralize()"
   ]
  },
  {
   "cell_type": "code",
   "execution_count": 32,
   "id": "774da4bb-7c35-4a1d-acde-a331966104ab",
   "metadata": {},
   "outputs": [
    {
     "data": {
      "text/plain": [
       "'go'"
      ]
     },
     "execution_count": 32,
     "metadata": {},
     "output_type": "execute_result"
    }
   ],
   "source": [
    "sentence2.words[1].singularize()"
   ]
  },
  {
   "cell_type": "code",
   "execution_count": 44,
   "id": "e485d03b-1de7-4efa-9847-e7e2b4b222f5",
   "metadata": {},
   "outputs": [],
   "source": [
    "w= Word('went')\n",
    "w1= Word('go')\n",
    "w2= Word('going')"
   ]
  },
  {
   "cell_type": "code",
   "execution_count": 41,
   "id": "c01e6e1c-ac11-4a48-b8eb-50dbcb21d646",
   "metadata": {},
   "outputs": [
    {
     "data": {
      "text/plain": [
       "'go'"
      ]
     },
     "execution_count": 41,
     "metadata": {},
     "output_type": "execute_result"
    }
   ],
   "source": [
    "w.lemmatize('v')"
   ]
  },
  {
   "cell_type": "code",
   "execution_count": 42,
   "id": "4f4ed0d9-40d2-4d8c-bcb0-557a3eb94caf",
   "metadata": {},
   "outputs": [
    {
     "data": {
      "text/plain": [
       "'go'"
      ]
     },
     "execution_count": 42,
     "metadata": {},
     "output_type": "execute_result"
    }
   ],
   "source": [
    "w1.lemmatize('v')"
   ]
  },
  {
   "cell_type": "code",
   "execution_count": 45,
   "id": "751f3adf-f8e6-4a64-bcbf-20dfcb6c38a4",
   "metadata": {},
   "outputs": [
    {
     "data": {
      "text/plain": [
       "'go'"
      ]
     },
     "execution_count": 45,
     "metadata": {},
     "output_type": "execute_result"
    }
   ],
   "source": [
    "w2.lemmatize('v')"
   ]
  },
  {
   "cell_type": "code",
   "execution_count": 46,
   "id": "c652c1c2-0abb-4a87-80c2-4832d5f4f76f",
   "metadata": {},
   "outputs": [
    {
     "data": {
      "text/plain": [
       "[('Former', 'NNP'),\n",
       " ('U.S.', 'NNP'),\n",
       " ('President', 'NNP'),\n",
       " ('Donald', 'NNP'),\n",
       " ('Trump', 'NNP'),\n",
       " ('has', 'VBZ'),\n",
       " ('established', 'VBN'),\n",
       " ('a', 'DT'),\n",
       " ('significant', 'JJ'),\n",
       " ('lead', 'NN'),\n",
       " ('over', 'IN'),\n",
       " ('other', 'JJ'),\n",
       " ('Republican', 'NNP'),\n",
       " ('Party', 'NNP'),\n",
       " ('candidates', 'NNS'),\n",
       " ('in', 'IN'),\n",
       " ('the', 'DT'),\n",
       " ('first', 'JJ'),\n",
       " ('formal', 'JJ'),\n",
       " ('event', 'NN'),\n",
       " ('of', 'IN'),\n",
       " ('the', 'DT'),\n",
       " ('election', 'NN'),\n",
       " ('season', 'NN'),\n",
       " ('the', 'DT'),\n",
       " ('Iowa', 'NNP'),\n",
       " ('caucuses', 'NNS'),\n",
       " ('This', 'DT'),\n",
       " ('puts', 'VBZ'),\n",
       " ('him', 'PRP'),\n",
       " ('in', 'IN'),\n",
       " ('pole', 'NN'),\n",
       " ('position', 'NN'),\n",
       " ('to', 'TO'),\n",
       " ('be', 'VB'),\n",
       " ('the', 'DT'),\n",
       " ('Republican', 'NNP'),\n",
       " ('nominee', 'NN'),\n",
       " ('for', 'IN'),\n",
       " ('the', 'DT'),\n",
       " ('November', 'NNP'),\n",
       " ('2024', 'CD'),\n",
       " ('presidential', 'JJ'),\n",
       " ('election', 'NN'),\n",
       " ('even', 'RB'),\n",
       " ('though', 'IN'),\n",
       " ('the', 'DT'),\n",
       " ('nomination', 'NN'),\n",
       " ('process', 'NN'),\n",
       " ('through', 'IN'),\n",
       " ('state-level', 'JJ'),\n",
       " ('primaries', 'NNS'),\n",
       " ('and', 'CC'),\n",
       " ('caucuses', 'NNS'),\n",
       " ('is', 'VBZ'),\n",
       " ('usually', 'RB'),\n",
       " ('hard-fought', 'JJ'),\n",
       " ('and', 'CC'),\n",
       " ('can', 'MD'),\n",
       " ('produce', 'VB'),\n",
       " ('surprise', 'NN'),\n",
       " ('outcomes', 'NNS'),\n",
       " ('While', 'IN'),\n",
       " ('the', 'DT'),\n",
       " ('45th', 'CD'),\n",
       " ('President', 'NNP'),\n",
       " ('scooped', 'VBD'),\n",
       " ('up', 'RP'),\n",
       " ('20', 'CD'),\n",
       " ('delegates', 'NNS'),\n",
       " ('in', 'IN'),\n",
       " ('Iowa', 'NNP'),\n",
       " ('far', 'RB'),\n",
       " ('ahead', 'RB'),\n",
       " ('of', 'IN'),\n",
       " ('the', 'DT'),\n",
       " ('nine', 'CD'),\n",
       " ('delegates', 'NNS'),\n",
       " ('of', 'IN'),\n",
       " ('Florida', 'NNP'),\n",
       " ('Governor', 'NNP'),\n",
       " ('Ron', 'NNP'),\n",
       " ('DeSantis', 'NNP'),\n",
       " ('and', 'CC'),\n",
       " ('eight', 'CD'),\n",
       " ('delegates', 'NNS'),\n",
       " ('of', 'IN'),\n",
       " ('former', 'JJ'),\n",
       " ('South', 'NNP'),\n",
       " ('Carolina', 'NNP'),\n",
       " ('Governor', 'NNP'),\n",
       " ('Nikki', 'NNP'),\n",
       " ('Haley', 'NNP'),\n",
       " ('in', 'IN'),\n",
       " ('order', 'NN'),\n",
       " ('to', 'TO'),\n",
       " ('win', 'VB'),\n",
       " ('the', 'DT'),\n",
       " ('Party', 'NNP'),\n",
       " ('’', 'NNP'),\n",
       " ('s', 'JJ'),\n",
       " ('nomination', 'NN'),\n",
       " ('a', 'DT'),\n",
       " ('candidate', 'NN'),\n",
       " ('would', 'MD'),\n",
       " ('require', 'VB'),\n",
       " ('a', 'DT'),\n",
       " ('total', 'NN'),\n",
       " ('of', 'IN'),\n",
       " ('1,215', 'CD'),\n",
       " ('delegates', 'NNS'),\n",
       " ('Meanwhile', 'RB'),\n",
       " ('the', 'DT'),\n",
       " ('next', 'JJ'),\n",
       " ('Republican', 'NNP'),\n",
       " ('presidential', 'JJ'),\n",
       " ('debate', 'NN'),\n",
       " ('was', 'VBD'),\n",
       " ('cancelled', 'VBN'),\n",
       " ('after', 'IN'),\n",
       " ('Ms.', 'NNP'),\n",
       " ('Haley', 'NNP'),\n",
       " ('declined', 'VBD'),\n",
       " ('to', 'TO'),\n",
       " ('appear', 'VB'),\n",
       " ('on', 'IN'),\n",
       " ('stage', 'NN'),\n",
       " ('unless', 'IN'),\n",
       " ('Mr.', 'NNP'),\n",
       " ('Trump', 'NNP'),\n",
       " ('participates', 'VBZ'),\n",
       " ('too', 'RB'),\n",
       " ('something', 'NN'),\n",
       " ('he', 'PRP'),\n",
       " ('has', 'VBZ'),\n",
       " ('refused', 'VBN'),\n",
       " ('to', 'TO'),\n",
       " ('do', 'VB'),\n",
       " ('so', 'RB'),\n",
       " ('far', 'RB'),\n",
       " ('Indeed', 'RB'),\n",
       " ('it', 'PRP'),\n",
       " ('is', 'VBZ'),\n",
       " ('Ms.', 'NNP'),\n",
       " ('Haley', 'NNP'),\n",
       " ('who', 'WP'),\n",
       " ('perhaps', 'RB'),\n",
       " ('represents', 'VBZ'),\n",
       " ('the', 'DT'),\n",
       " ('greatest', 'JJS'),\n",
       " ('possibility', 'NN'),\n",
       " ('of', 'IN'),\n",
       " ('posing', 'VBG'),\n",
       " ('a', 'DT'),\n",
       " ('challenge', 'NN'),\n",
       " ('to', 'TO'),\n",
       " ('Mr.', 'NNP'),\n",
       " ('Trump', 'NNP'),\n",
       " ('and', 'CC'),\n",
       " ('the', 'DT'),\n",
       " ('next', 'JJ'),\n",
       " ('Republican', 'NNP'),\n",
       " ('contest', 'NN'),\n",
       " ('in', 'IN'),\n",
       " ('New', 'NNP'),\n",
       " ('Hampshire', 'NNP'),\n",
       " ('a', 'DT'),\n",
       " ('swing', 'NN'),\n",
       " ('state', 'NN'),\n",
       " ('will', 'MD'),\n",
       " ('be', 'VB'),\n",
       " ('her', 'PRP$'),\n",
       " ('best', 'JJS'),\n",
       " ('opportunity', 'NN'),\n",
       " ('to', 'TO'),\n",
       " ('dent', 'VB'),\n",
       " ('his', 'PRP$'),\n",
       " ('momentum', 'NN'),\n",
       " ('The', 'DT'),\n",
       " ('state', 'NN'),\n",
       " ('has', 'VBZ'),\n",
       " ('a', 'DT'),\n",
       " ('more', 'RBR'),\n",
       " ('white', 'JJ'),\n",
       " ('and', 'CC'),\n",
       " ('rural', 'JJ'),\n",
       " ('population', 'NN'),\n",
       " ('and', 'CC'),\n",
       " ('nearly', 'RB'),\n",
       " ('40', 'CD'),\n",
       " ('%', 'NN'),\n",
       " ('of', 'IN'),\n",
       " ('its', 'PRP$'),\n",
       " ('electorate', 'NN'),\n",
       " ('is', 'VBZ'),\n",
       " ('comprised', 'VBN'),\n",
       " ('of', 'IN'),\n",
       " ('independent', 'JJ'),\n",
       " ('voters', 'NNS'),\n",
       " ('who', 'WP'),\n",
       " ('may', 'MD'),\n",
       " ('prefer', 'VB'),\n",
       " ('a', 'DT'),\n",
       " ('more', 'RBR'),\n",
       " ('moderate', 'JJ'),\n",
       " ('candidate', 'NN'),\n",
       " ('than', 'IN'),\n",
       " ('Mr.', 'NNP'),\n",
       " ('Trump', 'NNP'),\n",
       " ('Regardless', 'RB'),\n",
       " ('of', 'IN'),\n",
       " ('what', 'WP'),\n",
       " ('twists', 'NNS'),\n",
       " ('of', 'IN'),\n",
       " ('fate', 'NN'),\n",
       " ('might', 'MD'),\n",
       " ('lie', 'VB'),\n",
       " ('ahead', 'RB'),\n",
       " ('for', 'IN'),\n",
       " ('the', 'DT'),\n",
       " ('three', 'CD'),\n",
       " ('candidates', 'NNS'),\n",
       " ('in', 'IN'),\n",
       " ('the', 'DT'),\n",
       " ('Republican', 'NNP'),\n",
       " ('primaries', 'NNS'),\n",
       " ('it', 'PRP'),\n",
       " ('is', 'VBZ'),\n",
       " ('clear', 'JJ'),\n",
       " ('from', 'IN'),\n",
       " ('the', 'DT'),\n",
       " ('Iowa', 'NNP'),\n",
       " ('results', 'NNS'),\n",
       " ('that', 'IN'),\n",
       " ('Mr.', 'NNP'),\n",
       " ('Trump', 'NNP'),\n",
       " ('has', 'VBZ'),\n",
       " ('bounced', 'VBN'),\n",
       " ('back', 'RP'),\n",
       " ('from', 'IN'),\n",
       " ('what', 'WP'),\n",
       " ('some', 'DT'),\n",
       " ('consider', 'VBP'),\n",
       " ('the', 'DT'),\n",
       " ('political', 'JJ'),\n",
       " ('embarrassment', 'NN'),\n",
       " ('and', 'CC'),\n",
       " ('legal', 'JJ'),\n",
       " ('quagmires', 'NNS'),\n",
       " ('of', 'IN'),\n",
       " ('the', 'DT'),\n",
       " ('four', 'CD'),\n",
       " ('indictments', 'NNS'),\n",
       " ('that', 'IN'),\n",
       " ('he', 'PRP'),\n",
       " ('has', 'VBZ'),\n",
       " ('been', 'VBN'),\n",
       " ('slapped', 'VBN'),\n",
       " ('with', 'IN'),\n",
       " ('for', 'IN'),\n",
       " ('alleged', 'JJ'),\n",
       " ('improprieties', 'NNS'),\n",
       " ('of', 'IN'),\n",
       " ('conduct', 'NN'),\n",
       " ('during', 'IN'),\n",
       " ('his', 'PRP$'),\n",
       " ('time', 'NN'),\n",
       " ('in', 'IN'),\n",
       " ('office', 'NN'),\n",
       " ('The', 'DT'),\n",
       " ('latest', 'JJS'),\n",
       " ('voting', 'NN'),\n",
       " ('suggests', 'VBZ'),\n",
       " ('that', 'IN'),\n",
       " ('his', 'PRP$'),\n",
       " ('popularity', 'NN'),\n",
       " ('among', 'IN'),\n",
       " ('conservatives', 'NNS'),\n",
       " ('has', 'VBZ'),\n",
       " ('not', 'RB'),\n",
       " ('dwindled', 'VBN'),\n",
       " ('much', 'RB'),\n",
       " ('contrarily', 'RB'),\n",
       " ('he', 'PRP'),\n",
       " ('appears', 'VBZ'),\n",
       " ('to', 'TO'),\n",
       " ('be', 'VB'),\n",
       " ('their', 'PRP$'),\n",
       " ('candidate', 'NN'),\n",
       " ('of', 'IN'),\n",
       " ('choice', 'NN'),\n",
       " ('more', 'JJR'),\n",
       " ('than', 'IN'),\n",
       " ('in', 'IN'),\n",
       " ('previous', 'JJ'),\n",
       " ('elections', 'NNS'),\n",
       " ('The', 'DT'),\n",
       " ('Iowa', 'NNP'),\n",
       " ('caucuses', 'VBZ'),\n",
       " ('surveys', 'NNS'),\n",
       " ('suggest', 'VBP'),\n",
       " ('that', 'IN'),\n",
       " ('nearly', 'RB'),\n",
       " ('50', 'CD'),\n",
       " ('%', 'NN'),\n",
       " ('of', 'IN'),\n",
       " ('Republican', 'JJ'),\n",
       " ('considered', 'VBN'),\n",
       " ('themselves', 'PRP'),\n",
       " ('to', 'TO'),\n",
       " ('be', 'VB'),\n",
       " ('members', 'NNS'),\n",
       " ('of', 'IN'),\n",
       " ('Mr.', 'NNP'),\n",
       " ('Trump', 'NNP'),\n",
       " ('’', 'NNP'),\n",
       " ('s', 'VBD'),\n",
       " ('“', 'NNP'),\n",
       " ('Make', 'NNP'),\n",
       " ('America', 'NNP'),\n",
       " ('Great', 'NNP'),\n",
       " ('Again', 'NNP'),\n",
       " ('”', 'NNP'),\n",
       " ('movement', 'NN'),\n",
       " ('and', 'CC'),\n",
       " ('the', 'DT'),\n",
       " ('breadth', 'NN'),\n",
       " ('of', 'IN'),\n",
       " ('his', 'PRP$'),\n",
       " ('victory', 'NN'),\n",
       " ('included', 'VBD'),\n",
       " ('older', 'JJR'),\n",
       " ('and', 'CC'),\n",
       " ('younger', 'JJR'),\n",
       " ('age', 'NN'),\n",
       " ('cohorts', 'NNS'),\n",
       " ('men', 'NNS'),\n",
       " ('and', 'CC'),\n",
       " ('women', 'NNS'),\n",
       " ('and', 'CC'),\n",
       " ('far-right', 'JJ'),\n",
       " ('and', 'CC'),\n",
       " ('evangelical', 'JJ'),\n",
       " ('caucus-goers', 'NNS'),\n",
       " ('Reports', 'NNS'),\n",
       " ('from', 'IN'),\n",
       " ('Iowa', 'NNP'),\n",
       " ('indicate', 'VBP'),\n",
       " ('that', 'IN'),\n",
       " ('nearly', 'RB'),\n",
       " ('90', 'CD'),\n",
       " ('%', 'NN'),\n",
       " ('among', 'IN'),\n",
       " ('this', 'DT'),\n",
       " ('group', 'NN'),\n",
       " ('believed', 'VBD'),\n",
       " ('the', 'DT'),\n",
       " ('Trump', 'NNP'),\n",
       " ('campaign', 'NN'),\n",
       " ('falsehoods', 'NNS'),\n",
       " ('that', 'IN'),\n",
       " ('the', 'DT'),\n",
       " ('2020', 'CD'),\n",
       " ('election', 'NN'),\n",
       " ('was', 'VBD'),\n",
       " ('“', 'JJ'),\n",
       " ('stolen', 'VBN'),\n",
       " ('”', 'NN'),\n",
       " ('and', 'CC'),\n",
       " ('thus', 'RB'),\n",
       " ('tend', 'VB'),\n",
       " ('to', 'TO'),\n",
       " ('overlook', 'VB'),\n",
       " ('federal', 'JJ'),\n",
       " ('and', 'CC'),\n",
       " ('state', 'NN'),\n",
       " ('charges', 'NNS'),\n",
       " ('that', 'IN'),\n",
       " ('he', 'PRP'),\n",
       " ('faces', 'VBZ'),\n",
       " ('relating', 'VBG'),\n",
       " ('to', 'TO'),\n",
       " ('the', 'DT'),\n",
       " ('January', 'NNP'),\n",
       " ('6', 'CD'),\n",
       " ('2021', 'CD'),\n",
       " ('attack', 'NN'),\n",
       " ('on', 'IN'),\n",
       " ('the', 'DT'),\n",
       " ('U.S.', 'NNP'),\n",
       " ('Capitol', 'NNP'),\n",
       " ('and', 'CC'),\n",
       " ('election', 'NN'),\n",
       " ('interference', 'NN'),\n",
       " ('in', 'IN'),\n",
       " ('Georgia', 'NNP'),\n",
       " ('An', 'DT'),\n",
       " ('early', 'JJ'),\n",
       " ('assessment', 'NN'),\n",
       " ('of', 'IN'),\n",
       " ('Mr.', 'NNP'),\n",
       " ('Trump', 'NNP'),\n",
       " ('’', 'NNP'),\n",
       " ('s', 'VBZ'),\n",
       " ('overall', 'JJ'),\n",
       " ('position', 'NN'),\n",
       " ('suggests', 'VBZ'),\n",
       " ('that', 'IN'),\n",
       " ('he', 'PRP'),\n",
       " ('would', 'MD'),\n",
       " ('be', 'VB'),\n",
       " ('well', 'RB'),\n",
       " ('placed', 'VBN'),\n",
       " ('to', 'TO'),\n",
       " ('win', 'VB'),\n",
       " ('his', 'PRP$'),\n",
       " ('party', 'NN'),\n",
       " ('’', 'NNP'),\n",
       " ('s', 'JJ'),\n",
       " ('nomination', 'NN'),\n",
       " ('and', 'CC'),\n",
       " ('perhaps', 'RB'),\n",
       " ('successfully', 'RB'),\n",
       " ('challenge', 'VB'),\n",
       " ('his', 'PRP$'),\n",
       " ('Democratic', 'JJ'),\n",
       " ('rival', 'NN'),\n",
       " ('incumbent', 'JJ'),\n",
       " ('Joe', 'NNP'),\n",
       " ('Biden', 'NNP'),\n",
       " ('in', 'IN'),\n",
       " ('November', 'NNP'),\n",
       " ('Whether', 'IN'),\n",
       " ('this', 'DT'),\n",
       " ('will', 'MD'),\n",
       " ('be', 'VB'),\n",
       " ('a', 'DT'),\n",
       " ('positive', 'JJ'),\n",
       " ('development', 'NN'),\n",
       " ('favouring', 'VBG'),\n",
       " ('the', 'DT'),\n",
       " ('U.S.', 'NNP'),\n",
       " ('’', 'NNP'),\n",
       " ('s', 'VBD'),\n",
       " ('long-term', 'JJ'),\n",
       " ('national', 'JJ'),\n",
       " ('interest', 'NN'),\n",
       " ('is', 'VBZ'),\n",
       " ('an', 'DT'),\n",
       " ('entirely', 'RB'),\n",
       " ('different', 'JJ')]"
      ]
     },
     "execution_count": 46,
     "metadata": {},
     "output_type": "execute_result"
    }
   ],
   "source": [
    "sentence.tags"
   ]
  },
  {
   "cell_type": "code",
   "execution_count": 60,
   "id": "441dba86-9f99-4172-9ad0-5710580e9da8",
   "metadata": {},
   "outputs": [],
   "source": [
    "sent3= TextBlob('I wrotte inccorrect wordsd')"
   ]
  },
  {
   "cell_type": "code",
   "execution_count": 61,
   "id": "dc685757-f207-4b20-831a-8bedc7d79288",
   "metadata": {},
   "outputs": [
    {
     "data": {
      "text/plain": [
       "TextBlob(\"I wrote incorrect words\")"
      ]
     },
     "execution_count": 61,
     "metadata": {},
     "output_type": "execute_result"
    }
   ],
   "source": [
    "sent3.correct()"
   ]
  },
  {
   "cell_type": "code",
   "execution_count": 62,
   "id": "e86905f5-aab7-4688-b3ef-d2537acc1926",
   "metadata": {},
   "outputs": [
    {
     "data": {
      "text/plain": [
       "[('Translation', 1.0)]"
      ]
     },
     "execution_count": 62,
     "metadata": {},
     "output_type": "execute_result"
    }
   ],
   "source": [
    "w= Word('Translation')\n",
    "w.spellcheck()"
   ]
  },
  {
   "cell_type": "markdown",
   "id": "c84efaf8-89ab-4949-9a08-c2678729ea0c",
   "metadata": {},
   "source": [
    "## Translation"
   ]
  },
  {
   "cell_type": "code",
   "execution_count": 67,
   "id": "1f131712-1503-454c-8d86-0490b9199d39",
   "metadata": {},
   "outputs": [],
   "source": [
    "chinese_blob= TextBlob('''广州日报讯 （全媒体记者叶卡斯 通讯员晴雨）冷空气来了跟没来一样？托阳光的福，周末广州并不是很冷，然而新的冷空气马上就到，今天气温不仅要进一步降低，而且要开启湿冷模式 　　昨天白天，清远、韶关多云，出现了小雨，广东其余大部市县晴到多云。受冷空气影响，昨天各地最高气温普遍下降，其中韶关东部、河源和梅州两市的北部、肇庆的西部市县气温比前天下降了6℃～10℃，广东其余大部分市县下降了1℃～5℃。茂名电白录得全省最高气温23.6℃。清远连南录得全省最低气温5.2℃。\n",
    "　　广州市区昨天白天晴到多云。五山观测站录得昨天最低气温11.7℃，下降了4.0℃，最高气温20.3℃，下降了1.6℃。昨天白天相对湿度介于43%～70%。\n",
    "　　气象台预计，1月22日至24日，受强冷空气影响，广东大部阴雨寒冷天气，各地气温逐日下降，将有大范围的5℃及以下低温，粤北、珠三角北部的山区最低气温可达0℃以下有冰冻，粤北山区有冻雨或小雪，陆地高地、江河湖面、海面风力继续加大\n",
    "　　广州1月22日至24日受强冷空气主体补充影响，日平均气温继续下降5℃～8℃，并伴随稳定性小雨，降水叠加大风，体感维持阴冷。''')"
   ]
  },
  {
   "cell_type": "code",
   "execution_count": 71,
   "id": "24f33373-704c-4996-bc11-5e924373a6ee",
   "metadata": {},
   "outputs": [
    {
     "data": {
      "text/plain": [
       "TextBlob(\"గ్వాంగ్జౌ డైలీ న్యూస్ (అన్ని మీడియా రిపోర్టర్ యాకాస్ కరస్పాండెంట్ డార్క్ రైన్) చల్లటి గాలి రావడం మునుపటిలాగే ఉందా? సూర్యుని ఆశీర్వాదం, గ్వాంగ్జౌ వారాంతంలో చాలా చల్లగా లేదు, కానీ కొత్త చల్లని గాలి త్వరలో వస్తుంది. ఈ రోజు, ఉష్ణోగ్రత మరింత తగ్గించడమే కాకుండా, నిన్న తడి మరియు చల్లని మోడ్‌ను ఆన్ చేయాలి. కౌంటీ. మేఘావృతం నుండి మేఘావృతం. చల్లటి గాలితో ప్రభావితమైన, వివిధ ప్రదేశాలలో అత్యధిక ఉష్ణోగ్రతలు సాధారణంగా నిన్న క్షీణించాయి. వాటిలో, తూర్పున ఉత్తరాన ఉన్న పశ్చిమ నగరాలు మరియు కౌంటీలలో, షోగువాన్లోని హేవాన్ మరియు మీజు నగరాలు 6 ° C నుండి 10 ° C వరకు తగ్గాయి. నిన్న ముందు రోజు. ~ 5 ° C. మామింగ్ డయాన్బాయ్ ప్రావిన్స్‌లో అత్యధిక ఉష్ణోగ్రత 23.6 ° C నమోదు చేసింది. క్వింగ్యూవాన్ లియాన్నన్ ప్రావిన్స్‌లో అత్యల్ప ఉష్ణోగ్రత 5.2 ° C నమోదు చేశాడు.\n",
       "గ్వాంగ్జౌ సిటీ నిన్న చాలా మేఘావృతమై ఉంది. వుషన్ అబ్జర్వేషన్ స్టేషన్ నిన్న 11.7 ° C వద్ద, 4.0 ° C తగ్గుదల, మరియు గరిష్ట ఉష్ణోగ్రత 20.3 ° C, 1.6 ° C తగ్గుదలని నమోదు చేసింది. నిన్న పగటిపూట సాపేక్ష ఆర్ద్రత 43%నుండి 70%వరకు ఉంది.\n",
       "జనవరి 22 నుండి 24 వరకు, బలమైన చల్లని గాలి ప్రభావం కారణంగా, గ్వాంగ్డాంగ్ యొక్క వర్షపు మరియు చల్లని వాతావరణం కారణంగా, వివిధ ప్రదేశాలలో ఉష్ణోగ్రత రోజు రోజుకు తగ్గుతుందని, మరియు 5 ° C యొక్క పెద్ద శ్రేణి ఉంటుందని వాతావరణ అబ్జర్వేటరీ అంచనా వేసింది. మరియు క్రింద. ఇది 0 ° C కంటే తక్కువ స్తంభింపజేయవచ్చు. ఉత్తర గ్వాంగ్డాంగ్ యొక్క పర్వత ప్రాంతంలో స్తంభింపచేసిన వర్షం లేదా చిన్న మంచు ఉన్నాయి.\n",
       "గ్వాంగ్జౌలో, జనవరి 22 నుండి 24 వరకు, బలమైన చల్లని గాలి యొక్క ప్రధాన శరీరాన్ని భర్తీ చేయడం వల్ల, సగటు రోజువారీ ఉష్ణోగ్రత 5 ° C నుండి 8 ° C వరకు తగ్గుతూనే ఉంది, చిన్న వర్షపు తుఫానుతో పాటు, అవపాతం సూపర్మోస్ చేయబడింది, మరియు శరీర సంచలనం చలిని కొనసాగించింది.\")"
      ]
     },
     "execution_count": 71,
     "metadata": {},
     "output_type": "execute_result"
    }
   ],
   "source": [
    "chinese_blob.translate(from_lang='zh-CN', to='te')"
   ]
  },
  {
   "cell_type": "markdown",
   "id": "2ac65ed6-7236-448a-b20c-29a81c8eeca1",
   "metadata": {},
   "source": [
    "## Term Frequency - Inverse Document Frequency"
   ]
  },
  {
   "cell_type": "code",
   "execution_count": 72,
   "id": "fc0ed562-61a6-41bc-9dc6-fe5e68dffc0d",
   "metadata": {},
   "outputs": [],
   "source": [
    "import nltk"
   ]
  },
  {
   "cell_type": "code",
   "execution_count": 74,
   "id": "197f147f-7743-48cb-8988-f0083b88c645",
   "metadata": {},
   "outputs": [
    {
     "data": {
      "text/plain": [
       "TextBlob(\"Former U.S. President Donald Trump has established a significant lead over other Republican Party candidates in the first formal event of the election season, the Iowa caucuses. This puts him in pole position to be the Republican nominee for the November 2024 presidential election, even though the nomination process through state-level primaries and caucuses is usually hard-fought and can produce surprise outcomes. While the 45th President scooped up 20 delegates in Iowa, far ahead of the nine delegates of Florida Governor Ron DeSantis and eight delegates of former South Carolina Governor Nikki Haley, in order to win the Party’s nomination a candidate would require a total of 1,215 delegates. Meanwhile, the next Republican presidential debate was cancelled after Ms. Haley declined to appear on stage unless Mr. Trump participates too, something he has refused to do so far. Indeed, it is Ms. Haley who perhaps represents the greatest possibility of posing a challenge to Mr. Trump, and the next Republican contest in New Hampshire, a swing state, will be her best opportunity to dent his momentum. The state has a more white and rural population and nearly 40% of its electorate is comprised of independent voters who may prefer a more moderate candidate than Mr. Trump.\n",
       "\n",
       "Regardless of what twists of fate might lie ahead for the three candidates in the Republican primaries, it is clear from the Iowa results that Mr. Trump has bounced back from what some consider the political embarrassment and legal quagmires of the four indictments that he has been slapped with for alleged improprieties of conduct during his time in office. The latest voting suggests that his popularity among conservatives has not dwindled much; contrarily, he appears to be their candidate of choice more than in previous elections. The Iowa caucuses surveys suggest that nearly 50% of Republican considered themselves to be members of Mr. Trump’s “Make America Great Again” movement, and the breadth of his victory included older and younger age cohorts, men and women, and far-right and evangelical caucus-goers. Reports from Iowa indicate that nearly 90% among this group believed the Trump campaign falsehoods that the 2020 election was “stolen” and thus tend to overlook federal and state charges that he faces relating to the January 6, 2021 attack on the U.S. Capitol and election interference in Georgia. An early assessment of Mr. Trump’s overall position suggests that he would be well placed to win his party’s nomination and perhaps successfully challenge his Democratic rival, incumbent Joe Biden, in November. Whether this will be a positive development favouring the U.S.’s long-term national interest is an entirely different\")"
      ]
     },
     "execution_count": 74,
     "metadata": {},
     "output_type": "execute_result"
    }
   ],
   "source": [
    "sentence"
   ]
  },
  {
   "cell_type": "markdown",
   "id": "21f00ce8-21f3-489f-9d9b-18a942e3ef2c",
   "metadata": {},
   "source": [
    "### Preprocessing"
   ]
  },
  {
   "cell_type": "code",
   "execution_count": 81,
   "id": "1a27c1e0-c685-454e-8349-db5281500a51",
   "metadata": {},
   "outputs": [],
   "source": [
    "sentence= '''Former U.S. President Donald Trump has established a significant lead over other Republican Party candidates in the first formal event of the election season, the Iowa caucuses. This puts him in pole position to be the Republican nominee for the November 2024 presidential election, even though the nomination process through state-level primaries and caucuses is usually hard-fought and can produce surprise outcomes. While the 45th President scooped up 20 delegates in Iowa, far ahead of the nine delegates of Florida Governor Ron DeSantis and eight delegates of former South Carolina Governor Nikki Haley, in order to win the Party’s nomination a candidate would require a total of 1,215 delegates. Meanwhile, the next Republican presidential debate was cancelled after Ms. Haley declined to appear on stage unless Mr. Trump participates too, something he has refused to do so far. Indeed, it is Ms. Haley who perhaps represents the greatest possibility of posing a challenge to Mr. Trump, and the next Republican contest in New Hampshire, a swing state, will be her best opportunity to dent his momentum. The state has a more white and rural population and nearly 40% of its electorate is comprised of independent voters who may prefer a more moderate candidate than Mr. Trump.\n",
    "\n",
    "Regardless of what twists of fate might lie ahead for the three candidates in the Republican primaries, it is clear from the Iowa results that Mr. Trump has bounced back from what some consider the political embarrassment and legal quagmires of the four indictments that he has been slapped with for alleged improprieties of conduct during his time in office. The latest voting suggests that his popularity among conservatives has not dwindled much; contrarily, he appears to be their candidate of choice more than in previous elections. The Iowa caucuses surveys suggest that nearly 50% of Republican considered themselves to be members of Mr. Trump’s “Make America Great Again” movement, and the breadth of his victory included older and younger age cohorts, men and women, and far-right and evangelical caucus-goers. Reports from Iowa indicate that nearly 90% among this group believed the Trump campaign falsehoods that the 2020 election was “stolen” and thus tend to overlook federal and state charges that he faces relating to the January 6, 2021 attack on the U.S. Capitol and election interference in Georgia. An early assessment of Mr. Trump’s overall position suggests that he would be well placed to win his party’s nomination and perhaps successfully challenge his Democratic rival, incumbent Joe Biden, in November. Whether this will be a positive development favouring the U.S.’s long-term national interest is an entirely different'''"
   ]
  },
  {
   "cell_type": "code",
   "execution_count": 90,
   "id": "8b80384e-8e21-4f82-8d7d-37bbc260ed23",
   "metadata": {},
   "outputs": [],
   "source": [
    "import re\n",
    "from nltk.corpus import stopwords\n",
    "from nltk.stem import WordNetLemmatizer\n",
    "\n",
    "lemm= WordNetLemmatizer()\n",
    "sentence_= nltk.sent_tokenize(sentence)\n",
    "\n",
    "corpus= []\n",
    "\n",
    "for i in range(len(sentence_)):\n",
    "    review= re.sub('[^a-zA-Z]+', ' ', sentence_[i])\n",
    "    review.lower()\n",
    "    review= [lemm.lemmatize(word) for word in review.split() if word not in set(stopwords.words('english'))]\n",
    "    review= ' '.join(review)\n",
    "    corpus.append(review)"
   ]
  },
  {
   "cell_type": "code",
   "execution_count": 91,
   "id": "ccfe2fd4-5537-4269-9c61-477fed47d797",
   "metadata": {},
   "outputs": [
    {
     "data": {
      "text/plain": [
       "['Former U S President Donald Trump established significant lead Republican Party candidate first formal event election season Iowa caucus',\n",
       " 'This put pole position Republican nominee November presidential election even though nomination process state level primary caucus usually hard fought produce surprise outcome',\n",
       " 'While th President scooped delegate Iowa far ahead nine delegate Florida Governor Ron DeSantis eight delegate former South Carolina Governor Nikki Haley order win Party nomination candidate would require total delegate',\n",
       " 'Meanwhile next Republican presidential debate cancelled Ms Haley declined appear stage unless Mr Trump participates something refused far',\n",
       " 'Indeed Ms Haley perhaps represents greatest possibility posing challenge Mr Trump next Republican contest New Hampshire swing state best opportunity dent momentum',\n",
       " 'The state white rural population nearly electorate comprised independent voter may prefer moderate candidate Mr Trump',\n",
       " 'Regardless twist fate might lie ahead three candidate Republican primary clear Iowa result Mr Trump bounced back consider political embarrassment legal quagmire four indictment slapped alleged impropriety conduct time office',\n",
       " 'The latest voting suggests popularity among conservative dwindled much contrarily appears candidate choice previous election',\n",
       " 'The Iowa caucus survey suggest nearly Republican considered member Mr Trump Make America Great Again movement breadth victory included older younger age cohort men woman far right evangelical caucus goer',\n",
       " 'Reports Iowa indicate nearly among group believed Trump campaign falsehood election stolen thus tend overlook federal state charge face relating January attack U S Capitol election interference Georgia',\n",
       " 'An early assessment Mr Trump overall position suggests would well placed win party nomination perhaps successfully challenge Democratic rival incumbent Joe Biden November',\n",
       " 'Whether positive development favouring U S long term national interest entirely different']"
      ]
     },
     "execution_count": 91,
     "metadata": {},
     "output_type": "execute_result"
    }
   ],
   "source": [
    "corpus"
   ]
  },
  {
   "cell_type": "markdown",
   "id": "a4088b75-8d2e-4fe1-823a-fb8b7d3cc55f",
   "metadata": {},
   "source": [
    "## Apply TF-IDF"
   ]
  },
  {
   "cell_type": "code",
   "execution_count": 88,
   "id": "2d6732fe-db91-4c7f-b983-1e0c49e0fe5b",
   "metadata": {},
   "outputs": [],
   "source": [
    "from sklearn.feature_extraction.text import TfidfVectorizer"
   ]
  },
  {
   "cell_type": "code",
   "execution_count": 92,
   "id": "458d8121-1764-4284-91c1-738620a9b066",
   "metadata": {},
   "outputs": [],
   "source": [
    "tfidf_vector= TfidfVectorizer()\n",
    "x= tfidf_vector.fit_transform(corpus).toarray()"
   ]
  },
  {
   "cell_type": "code",
   "execution_count": 96,
   "id": "ff1710ba-5287-4136-84f1-b5b2a899496d",
   "metadata": {},
   "outputs": [
    {
     "name": "stdout",
     "output_type": "stream",
     "text": [
      "Collecting pandas\n",
      "  Downloading pandas-2.2.0-cp310-cp310-win_amd64.whl (11.6 MB)\n",
      "     ---------------------------------------- 11.6/11.6 MB 3.7 MB/s eta 0:00:00\n",
      "Collecting tzdata>=2022.7\n",
      "  Downloading tzdata-2023.4-py2.py3-none-any.whl (346 kB)\n",
      "     -------------------------------------- 346.6/346.6 kB 7.3 MB/s eta 0:00:00\n",
      "Requirement already satisfied: numpy<2,>=1.22.4 in c:\\users\\arvind vasa\\anaconda3\\lib\\site-packages (from pandas) (1.26.3)\n",
      "Requirement already satisfied: python-dateutil>=2.8.2 in c:\\users\\arvind vasa\\anaconda3\\lib\\site-packages (from pandas) (2.8.2)\n",
      "Requirement already satisfied: pytz>=2020.1 in c:\\users\\arvind vasa\\anaconda3\\lib\\site-packages (from pandas) (2023.3.post1)\n",
      "Requirement already satisfied: six>=1.5 in c:\\users\\arvind vasa\\anaconda3\\lib\\site-packages (from python-dateutil>=2.8.2->pandas) (1.16.0)\n",
      "Installing collected packages: tzdata, pandas\n",
      "Successfully installed pandas-2.2.0 tzdata-2023.4\n"
     ]
    }
   ],
   "source": [
    "!pip install pandas"
   ]
  },
  {
   "cell_type": "code",
   "execution_count": 97,
   "id": "87a10153-119f-456b-a767-9a1a6039528a",
   "metadata": {},
   "outputs": [
    {
     "name": "stderr",
     "output_type": "stream",
     "text": [
      "C:\\Users\\Arvind Vasa\\AppData\\Local\\Temp\\ipykernel_15036\\1269623066.py:1: DeprecationWarning: \n",
      "Pyarrow will become a required dependency of pandas in the next major release of pandas (pandas 3.0),\n",
      "(to allow more performant data types, such as the Arrow string type, and better interoperability with other libraries)\n",
      "but was not found to be installed on your system.\n",
      "If this would cause problems for you,\n",
      "please provide us feedback at https://github.com/pandas-dev/pandas/issues/54466\n",
      "        \n",
      "  import pandas as pd\n"
     ]
    }
   ],
   "source": [
    "import pandas as pd\n",
    "df= pd.DataFrame(x)"
   ]
  },
  {
   "cell_type": "code",
   "execution_count": 98,
   "id": "5f12a27f-25b3-46e9-a1e7-ebb60bbd43f8",
   "metadata": {},
   "outputs": [
    {
     "data": {
      "text/html": [
       "<div>\n",
       "<style scoped>\n",
       "    .dataframe tbody tr th:only-of-type {\n",
       "        vertical-align: middle;\n",
       "    }\n",
       "\n",
       "    .dataframe tbody tr th {\n",
       "        vertical-align: top;\n",
       "    }\n",
       "\n",
       "    .dataframe thead th {\n",
       "        text-align: right;\n",
       "    }\n",
       "</style>\n",
       "<table border=\"1\" class=\"dataframe\">\n",
       "  <thead>\n",
       "    <tr style=\"text-align: right;\">\n",
       "      <th></th>\n",
       "      <th>0</th>\n",
       "      <th>1</th>\n",
       "      <th>2</th>\n",
       "      <th>3</th>\n",
       "      <th>4</th>\n",
       "      <th>5</th>\n",
       "      <th>6</th>\n",
       "      <th>7</th>\n",
       "      <th>8</th>\n",
       "      <th>9</th>\n",
       "      <th>...</th>\n",
       "      <th>185</th>\n",
       "      <th>186</th>\n",
       "      <th>187</th>\n",
       "      <th>188</th>\n",
       "      <th>189</th>\n",
       "      <th>190</th>\n",
       "      <th>191</th>\n",
       "      <th>192</th>\n",
       "      <th>193</th>\n",
       "      <th>194</th>\n",
       "    </tr>\n",
       "  </thead>\n",
       "  <tbody>\n",
       "    <tr>\n",
       "      <th>0</th>\n",
       "      <td>0.0</td>\n",
       "      <td>0.0</td>\n",
       "      <td>0.000000</td>\n",
       "      <td>0.0</td>\n",
       "      <td>0.0</td>\n",
       "      <td>0.0</td>\n",
       "      <td>0.0</td>\n",
       "      <td>0.000000</td>\n",
       "      <td>0.0</td>\n",
       "      <td>0.0</td>\n",
       "      <td>...</td>\n",
       "      <td>0.0</td>\n",
       "      <td>0.0</td>\n",
       "      <td>0.0</td>\n",
       "      <td>0.0</td>\n",
       "      <td>0.000000</td>\n",
       "      <td>0.0</td>\n",
       "      <td>0.000000</td>\n",
       "      <td>0.0</td>\n",
       "      <td>0.000000</td>\n",
       "      <td>0.0</td>\n",
       "    </tr>\n",
       "    <tr>\n",
       "      <th>1</th>\n",
       "      <td>0.0</td>\n",
       "      <td>0.0</td>\n",
       "      <td>0.000000</td>\n",
       "      <td>0.0</td>\n",
       "      <td>0.0</td>\n",
       "      <td>0.0</td>\n",
       "      <td>0.0</td>\n",
       "      <td>0.000000</td>\n",
       "      <td>0.0</td>\n",
       "      <td>0.0</td>\n",
       "      <td>...</td>\n",
       "      <td>0.0</td>\n",
       "      <td>0.0</td>\n",
       "      <td>0.0</td>\n",
       "      <td>0.0</td>\n",
       "      <td>0.000000</td>\n",
       "      <td>0.0</td>\n",
       "      <td>0.000000</td>\n",
       "      <td>0.0</td>\n",
       "      <td>0.000000</td>\n",
       "      <td>0.0</td>\n",
       "    </tr>\n",
       "    <tr>\n",
       "      <th>2</th>\n",
       "      <td>0.0</td>\n",
       "      <td>0.0</td>\n",
       "      <td>0.134531</td>\n",
       "      <td>0.0</td>\n",
       "      <td>0.0</td>\n",
       "      <td>0.0</td>\n",
       "      <td>0.0</td>\n",
       "      <td>0.000000</td>\n",
       "      <td>0.0</td>\n",
       "      <td>0.0</td>\n",
       "      <td>...</td>\n",
       "      <td>0.0</td>\n",
       "      <td>0.0</td>\n",
       "      <td>0.0</td>\n",
       "      <td>0.0</td>\n",
       "      <td>0.156647</td>\n",
       "      <td>0.0</td>\n",
       "      <td>0.134531</td>\n",
       "      <td>0.0</td>\n",
       "      <td>0.134531</td>\n",
       "      <td>0.0</td>\n",
       "    </tr>\n",
       "    <tr>\n",
       "      <th>3</th>\n",
       "      <td>0.0</td>\n",
       "      <td>0.0</td>\n",
       "      <td>0.000000</td>\n",
       "      <td>0.0</td>\n",
       "      <td>0.0</td>\n",
       "      <td>0.0</td>\n",
       "      <td>0.0</td>\n",
       "      <td>0.265128</td>\n",
       "      <td>0.0</td>\n",
       "      <td>0.0</td>\n",
       "      <td>...</td>\n",
       "      <td>0.0</td>\n",
       "      <td>0.0</td>\n",
       "      <td>0.0</td>\n",
       "      <td>0.0</td>\n",
       "      <td>0.000000</td>\n",
       "      <td>0.0</td>\n",
       "      <td>0.000000</td>\n",
       "      <td>0.0</td>\n",
       "      <td>0.000000</td>\n",
       "      <td>0.0</td>\n",
       "    </tr>\n",
       "    <tr>\n",
       "      <th>4</th>\n",
       "      <td>0.0</td>\n",
       "      <td>0.0</td>\n",
       "      <td>0.000000</td>\n",
       "      <td>0.0</td>\n",
       "      <td>0.0</td>\n",
       "      <td>0.0</td>\n",
       "      <td>0.0</td>\n",
       "      <td>0.000000</td>\n",
       "      <td>0.0</td>\n",
       "      <td>0.0</td>\n",
       "      <td>...</td>\n",
       "      <td>0.0</td>\n",
       "      <td>0.0</td>\n",
       "      <td>0.0</td>\n",
       "      <td>0.0</td>\n",
       "      <td>0.000000</td>\n",
       "      <td>0.0</td>\n",
       "      <td>0.000000</td>\n",
       "      <td>0.0</td>\n",
       "      <td>0.000000</td>\n",
       "      <td>0.0</td>\n",
       "    </tr>\n",
       "  </tbody>\n",
       "</table>\n",
       "<p>5 rows × 195 columns</p>\n",
       "</div>"
      ],
      "text/plain": [
       "   0    1         2    3    4    5    6         7    8    9    ...  185  186  \\\n",
       "0  0.0  0.0  0.000000  0.0  0.0  0.0  0.0  0.000000  0.0  0.0  ...  0.0  0.0   \n",
       "1  0.0  0.0  0.000000  0.0  0.0  0.0  0.0  0.000000  0.0  0.0  ...  0.0  0.0   \n",
       "2  0.0  0.0  0.134531  0.0  0.0  0.0  0.0  0.000000  0.0  0.0  ...  0.0  0.0   \n",
       "3  0.0  0.0  0.000000  0.0  0.0  0.0  0.0  0.265128  0.0  0.0  ...  0.0  0.0   \n",
       "4  0.0  0.0  0.000000  0.0  0.0  0.0  0.0  0.000000  0.0  0.0  ...  0.0  0.0   \n",
       "\n",
       "   187  188       189  190       191  192       193  194  \n",
       "0  0.0  0.0  0.000000  0.0  0.000000  0.0  0.000000  0.0  \n",
       "1  0.0  0.0  0.000000  0.0  0.000000  0.0  0.000000  0.0  \n",
       "2  0.0  0.0  0.156647  0.0  0.134531  0.0  0.134531  0.0  \n",
       "3  0.0  0.0  0.000000  0.0  0.000000  0.0  0.000000  0.0  \n",
       "4  0.0  0.0  0.000000  0.0  0.000000  0.0  0.000000  0.0  \n",
       "\n",
       "[5 rows x 195 columns]"
      ]
     },
     "execution_count": 98,
     "metadata": {},
     "output_type": "execute_result"
    }
   ],
   "source": [
    "df.head()"
   ]
  },
  {
   "cell_type": "code",
   "execution_count": null,
   "id": "5abc1dcf-a6d5-4e8a-a3d6-4d0bfe13db09",
   "metadata": {},
   "outputs": [],
   "source": []
  }
 ],
 "metadata": {
  "kernelspec": {
   "display_name": "Python 3 (ipykernel)",
   "language": "python",
   "name": "python3"
  },
  "language_info": {
   "codemirror_mode": {
    "name": "ipython",
    "version": 3
   },
   "file_extension": ".py",
   "mimetype": "text/x-python",
   "name": "python",
   "nbconvert_exporter": "python",
   "pygments_lexer": "ipython3",
   "version": "3.10.13"
  }
 },
 "nbformat": 4,
 "nbformat_minor": 5
}
