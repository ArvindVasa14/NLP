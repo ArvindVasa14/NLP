{
 "cells": [
  {
   "cell_type": "code",
   "execution_count": 37,
   "id": "bf6af57f",
   "metadata": {},
   "outputs": [],
   "source": [
    "import nltk\n",
    "from nltk.stem.porter import *"
   ]
  },
  {
   "cell_type": "markdown",
   "id": "ad66f20c",
   "metadata": {},
   "source": [
    "## Stemming"
   ]
  },
  {
   "cell_type": "code",
   "execution_count": 38,
   "id": "99ad0b53",
   "metadata": {},
   "outputs": [],
   "source": [
    "stemming = PorterStemmer()\n",
    "words= ['runs', 'running', 'run', 'ran', 'easily', 'fairly','e sy', 'fair', 'history', 'historically']"
   ]
  },
  {
   "cell_type": "code",
   "execution_count": 39,
   "id": "21c2254c",
   "metadata": {},
   "outputs": [
    {
     "name": "stdout",
     "output_type": "stream",
     "text": [
      "runs----> run\n",
      "running----> run\n",
      "run----> run\n",
      "ran----> ran\n",
      "easily----> easili\n",
      "fairly----> fairli\n",
      "e sy----> e si\n",
      "fair----> fair\n",
      "history----> histori\n",
      "historically----> histor\n"
     ]
    }
   ],
   "source": [
    "for word in words:\n",
    "    print(word + '----> '+ stemming.stem(word))\n",
    "    \n",
    "#     stemming just shorten the word"
   ]
  },
  {
   "cell_type": "code",
   "execution_count": 40,
   "id": "e62124dc",
   "metadata": {},
   "outputs": [
    {
     "data": {
      "text/plain": [
       "'Former U.S. President Donald Trump has established a significant lead over other Republican Party candidates in the first formal event of the election season, the Iowa caucuses. This puts him in pole position to be the Republican nominee for the November 2024 presidential election, even though the nomination process through state-level primaries and caucuses is usually hard-fought and can produce surprise outcomes. While the 45th President scooped up 20 delegates in Iowa, far ahead of the nine delegates of Florida Governor Ron DeSantis and eight delegates of former South Carolina Governor Nikki Haley, in order to win the Party’s nomination a candidate would require a total of 1,215 delegates. Meanwhile, the next Republican presidential debate was cancelled after Ms. Haley declined to appear on stage unless Mr. Trump participates too, something he has refused to do so far. Indeed, it is Ms. Haley who perhaps represents the greatest possibility of posing a challenge to Mr. Trump, and the next Republican contest in New Hampshire, a swing state, will be her best opportunity to dent his momentum. The state has a more white and rural population and nearly 40% of its electorate is comprised of independent voters who may prefer a more moderate candidate than Mr. Trump.\\n\\nRegardless of what twists of fate might lie ahead for the three candidates in the Republican primaries, it is clear from the Iowa results that Mr. Trump has bounced back from what some consider the political embarrassment and legal quagmires of the four indictments that he has been slapped with for alleged improprieties of conduct during his time in office. The latest voting suggests that his popularity among conservatives has not dwindled much; contrarily, he appears to be their candidate of choice more than in previous elections. The Iowa caucuses surveys suggest that nearly 50% of Republican considered themselves to be members of Mr. Trump’s “Make America Great Again” movement, and the breadth of his victory included older and younger age cohorts, men and women, and far-right and evangelical caucus-goers. Reports from Iowa indicate that nearly 90% among this group believed the Trump campaign falsehoods that the 2020 election was “stolen” and thus tend to overlook federal and state charges that he faces relating to the January 6, 2021 attack on the U.S. Capitol and election interference in Georgia. An early assessment of Mr. Trump’s overall position suggests that he would be well placed to win his party’s nomination and perhaps successfully challenge his Democratic rival, incumbent Joe Biden, in November. Whether this will be a positive development favouring the U.S.’s long-term national interest is an entirely different'"
      ]
     },
     "execution_count": 40,
     "metadata": {},
     "output_type": "execute_result"
    }
   ],
   "source": [
    "sentence = '''Former U.S. President Donald Trump has established a significant lead over other Republican Party candidates in the first formal event of the election season, the Iowa caucuses. This puts him in pole position to be the Republican nominee for the November 2024 presidential election, even though the nomination process through state-level primaries and caucuses is usually hard-fought and can produce surprise outcomes. While the 45th President scooped up 20 delegates in Iowa, far ahead of the nine delegates of Florida Governor Ron DeSantis and eight delegates of former South Carolina Governor Nikki Haley, in order to win the Party’s nomination a candidate would require a total of 1,215 delegates. Meanwhile, the next Republican presidential debate was cancelled after Ms. Haley declined to appear on stage unless Mr. Trump participates too, something he has refused to do so far. Indeed, it is Ms. Haley who perhaps represents the greatest possibility of posing a challenge to Mr. Trump, and the next Republican contest in New Hampshire, a swing state, will be her best opportunity to dent his momentum. The state has a more white and rural population and nearly 40% of its electorate is comprised of independent voters who may prefer a more moderate candidate than Mr. Trump.\n",
    "\n",
    "Regardless of what twists of fate might lie ahead for the three candidates in the Republican primaries, it is clear from the Iowa results that Mr. Trump has bounced back from what some consider the political embarrassment and legal quagmires of the four indictments that he has been slapped with for alleged improprieties of conduct during his time in office. The latest voting suggests that his popularity among conservatives has not dwindled much; contrarily, he appears to be their candidate of choice more than in previous elections. The Iowa caucuses surveys suggest that nearly 50% of Republican considered themselves to be members of Mr. Trump’s “Make America Great Again” movement, and the breadth of his victory included older and younger age cohorts, men and women, and far-right and evangelical caucus-goers. Reports from Iowa indicate that nearly 90% among this group believed the Trump campaign falsehoods that the 2020 election was “stolen” and thus tend to overlook federal and state charges that he faces relating to the January 6, 2021 attack on the U.S. Capitol and election interference in Georgia. An early assessment of Mr. Trump’s overall position suggests that he would be well placed to win his party’s nomination and perhaps successfully challenge his Democratic rival, incumbent Joe Biden, in November. Whether this will be a positive development favouring the U.S.’s long-term national interest is an entirely different'''\n",
    "\n",
    "sentence"
   ]
  },
  {
   "cell_type": "code",
   "execution_count": 41,
   "id": "f7e650a0",
   "metadata": {},
   "outputs": [],
   "source": [
    "from nltk.corpus import stopwords"
   ]
  },
  {
   "cell_type": "code",
   "execution_count": 42,
   "id": "91c45d97",
   "metadata": {},
   "outputs": [
    {
     "data": {
      "text/plain": [
       "['Former U.S. President Donald Trump has established a significant lead over other Republican Party candidates in the first formal event of the election season, the Iowa caucuses.',\n",
       " 'This puts him in pole position to be the Republican nominee for the November 2024 presidential election, even though the nomination process through state-level primaries and caucuses is usually hard-fought and can produce surprise outcomes.',\n",
       " 'While the 45th President scooped up 20 delegates in Iowa, far ahead of the nine delegates of Florida Governor Ron DeSantis and eight delegates of former South Carolina Governor Nikki Haley, in order to win the Party’s nomination a candidate would require a total of 1,215 delegates.',\n",
       " 'Meanwhile, the next Republican presidential debate was cancelled after Ms. Haley declined to appear on stage unless Mr. Trump participates too, something he has refused to do so far.',\n",
       " 'Indeed, it is Ms. Haley who perhaps represents the greatest possibility of posing a challenge to Mr. Trump, and the next Republican contest in New Hampshire, a swing state, will be her best opportunity to dent his momentum.',\n",
       " 'The state has a more white and rural population and nearly 40% of its electorate is comprised of independent voters who may prefer a more moderate candidate than Mr. Trump.',\n",
       " 'Regardless of what twists of fate might lie ahead for the three candidates in the Republican primaries, it is clear from the Iowa results that Mr. Trump has bounced back from what some consider the political embarrassment and legal quagmires of the four indictments that he has been slapped with for alleged improprieties of conduct during his time in office.',\n",
       " 'The latest voting suggests that his popularity among conservatives has not dwindled much; contrarily, he appears to be their candidate of choice more than in previous elections.',\n",
       " 'The Iowa caucuses surveys suggest that nearly 50% of Republican considered themselves to be members of Mr. Trump’s “Make America Great Again” movement, and the breadth of his victory included older and younger age cohorts, men and women, and far-right and evangelical caucus-goers.',\n",
       " 'Reports from Iowa indicate that nearly 90% among this group believed the Trump campaign falsehoods that the 2020 election was “stolen” and thus tend to overlook federal and state charges that he faces relating to the January 6, 2021 attack on the U.S. Capitol and election interference in Georgia.',\n",
       " 'An early assessment of Mr. Trump’s overall position suggests that he would be well placed to win his party’s nomination and perhaps successfully challenge his Democratic rival, incumbent Joe Biden, in November.',\n",
       " 'Whether this will be a positive development favouring the U.S.’s long-term national interest is an entirely different']"
      ]
     },
     "execution_count": 42,
     "metadata": {},
     "output_type": "execute_result"
    }
   ],
   "source": [
    "my_review= nltk.sent_tokenize(sentence)\n",
    "my_review"
   ]
  },
  {
   "cell_type": "code",
   "execution_count": 43,
   "id": "d4820544",
   "metadata": {},
   "outputs": [
    {
     "data": {
      "text/plain": [
       "['former u.s. presid donald trump establish signific lead republican parti candid first formal event elect season , iowa caucus .',\n",
       " 'thi put pole posit republican nomine novemb 2024 presidenti elect , even though nomin process state-level primari caucus usual hard-fought produc surpris outcom .',\n",
       " 'while 45th presid scoop 20 deleg iowa , far ahead nine deleg florida governor ron desanti eight deleg former south carolina governor nikki haley , order win parti ’ nomin candid would requir total 1,215 deleg .',\n",
       " 'meanwhil , next republican presidenti debat cancel ms. haley declin appear stage unless mr. trump particip , someth refus far .',\n",
       " 'inde , ms. haley perhap repres greatest possibl pose challeng mr. trump , next republican contest new hampshir , swing state , best opportun dent momentum .',\n",
       " 'the state white rural popul nearli 40 % elector compris independ voter may prefer moder candid mr. trump .',\n",
       " 'regardless twist fate might lie ahead three candid republican primari , clear iowa result mr. trump bounc back consid polit embarrass legal quagmir four indict slap alleg improprieti conduct time offic .',\n",
       " 'the latest vote suggest popular among conserv dwindl much ; contrarili , appear candid choic previou elect .',\n",
       " 'the iowa caucus survey suggest nearli 50 % republican consid member mr. trump ’ “ make america great again ” movement , breadth victori includ older younger age cohort , men women , far-right evangel caucus-go .',\n",
       " 'report iowa indic nearli 90 % among group believ trump campaign falsehood 2020 elect “ stolen ” thu tend overlook feder state charg face relat januari 6 , 2021 attack u.s. capitol elect interfer georgia .',\n",
       " 'an earli assess mr. trump ’ overal posit suggest would well place win parti ’ nomin perhap success challeng democrat rival , incumb joe biden , novemb .',\n",
       " 'whether posit develop favour u.s. ’ long-term nation interest entir differ']"
      ]
     },
     "execution_count": 43,
     "metadata": {},
     "output_type": "execute_result"
    }
   ],
   "source": [
    "# applying stopwords to remove and then stemming\n",
    "\n",
    "for i in range(len(my_review)):\n",
    "    words= nltk.word_tokenize(my_review[i])\n",
    "    words= [stemming.stem(word) for word in words if word not in set(stopwords.words('english'))]\n",
    "    my_review[i]= ' '.join(words)\n",
    "\n",
    "my_review"
   ]
  },
  {
   "cell_type": "markdown",
   "id": "3531225c",
   "metadata": {},
   "source": [
    "## Lammetization"
   ]
  },
  {
   "cell_type": "code",
   "execution_count": 44,
   "id": "70b27ae2",
   "metadata": {},
   "outputs": [],
   "source": [
    "words= ['runs', 'running', 'run', 'ran', 'easily', 'fairly','easy', 'fair', 'history', 'historically']"
   ]
  },
  {
   "cell_type": "code",
   "execution_count": 45,
   "id": "e7502357",
   "metadata": {},
   "outputs": [],
   "source": [
    "from nltk.stem import WordNetLemmatizer"
   ]
  },
  {
   "cell_type": "code",
   "execution_count": 46,
   "id": "57010906",
   "metadata": {},
   "outputs": [],
   "source": [
    "lemm= WordNetLemmatizer()"
   ]
  },
  {
   "cell_type": "code",
   "execution_count": 47,
   "id": "c3f42f86",
   "metadata": {},
   "outputs": [
    {
     "name": "stdout",
     "output_type": "stream",
     "text": [
      "runs----> run\n",
      "running----> running\n",
      "run----> run\n",
      "ran----> ran\n",
      "easily----> easily\n",
      "fairly----> fairly\n",
      "easy----> easy\n",
      "fair----> fair\n",
      "history----> history\n",
      "historically----> historically\n"
     ]
    }
   ],
   "source": [
    "for word in words:\n",
    "    print(word + '----> '+ lemm.lemmatize(word))\n",
    "    \n",
    "# le"
   ]
  },
  {
   "cell_type": "code",
   "execution_count": 48,
   "id": "bd32cd31",
   "metadata": {},
   "outputs": [],
   "source": [
    "sentence = '''Former U.S. President Donald Trump has established a significant lead over other Republican Party candidates in the first formal event of the election season, the Iowa caucuses. This puts him in pole position to be the Republican nominee for the November 2024 presidential election, even though the nomination process through state-level primaries and caucuses is usually hard-fought and can produce surprise outcomes. While the 45th President scooped up 20 delegates in Iowa, far ahead of the nine delegates of Florida Governor Ron DeSantis and eight delegates of former South Carolina Governor Nikki Haley, in order to win the Party’s nomination a candidate would require a total of 1,215 delegates. Meanwhile, the next Republican presidential debate was cancelled after Ms. Haley declined to appear on stage unless Mr. Trump participates too, something he has refused to do so far. Indeed, it is Ms. Haley who perhaps represents the greatest possibility of posing a challenge to Mr. Trump, and the next Republican contest in New Hampshire, a swing state, will be her best opportunity to dent his momentum. The state has a more white and rural population and nearly 40% of its electorate is comprised of independent voters who may prefer a more moderate candidate than Mr. Trump.\n",
    "\n",
    "Regardless of what twists of fate might lie ahead for the three candidates in the Republican primaries, it is clear from the Iowa results that Mr. Trump has bounced back from what some consider the political embarrassment and legal quagmires of the four indictments that he has been slapped with for alleged improprieties of conduct during his time in office. The latest voting suggests that his popularity among conservatives has not dwindled much; contrarily, he appears to be their candidate of choice more than in previous elections. The Iowa caucuses surveys suggest that nearly 50% of Republican considered themselves to be members of Mr. Trump’s “Make America Great Again” movement, and the breadth of his victory included older and younger age cohorts, men and women, and far-right and evangelical caucus-goers. Reports from Iowa indicate that nearly 90% among this group believed the Trump campaign falsehoods that the 2020 election was “stolen” and thus tend to overlook federal and state charges that he faces relating to the January 6, 2021 attack on the U.S. Capitol and election interference in Georgia. An early assessment of Mr. Trump’s overall position suggests that he would be well placed to win his party’s nomination and perhaps successfully challenge his Democratic rival, incumbent Joe Biden, in November. Whether this will be a positive development favouring the U.S.’s long-term national interest is an entirely different'''\n"
   ]
  },
  {
   "cell_type": "code",
   "execution_count": 49,
   "id": "dbac0b6f",
   "metadata": {},
   "outputs": [
    {
     "data": {
      "text/plain": [
       "['Former U.S. President Donald Trump has established a significant lead over other Republican Party candidates in the first formal event of the election season, the Iowa caucuses.',\n",
       " 'This puts him in pole position to be the Republican nominee for the November 2024 presidential election, even though the nomination process through state-level primaries and caucuses is usually hard-fought and can produce surprise outcomes.',\n",
       " 'While the 45th President scooped up 20 delegates in Iowa, far ahead of the nine delegates of Florida Governor Ron DeSantis and eight delegates of former South Carolina Governor Nikki Haley, in order to win the Party’s nomination a candidate would require a total of 1,215 delegates.',\n",
       " 'Meanwhile, the next Republican presidential debate was cancelled after Ms. Haley declined to appear on stage unless Mr. Trump participates too, something he has refused to do so far.',\n",
       " 'Indeed, it is Ms. Haley who perhaps represents the greatest possibility of posing a challenge to Mr. Trump, and the next Republican contest in New Hampshire, a swing state, will be her best opportunity to dent his momentum.',\n",
       " 'The state has a more white and rural population and nearly 40% of its electorate is comprised of independent voters who may prefer a more moderate candidate than Mr. Trump.',\n",
       " 'Regardless of what twists of fate might lie ahead for the three candidates in the Republican primaries, it is clear from the Iowa results that Mr. Trump has bounced back from what some consider the political embarrassment and legal quagmires of the four indictments that he has been slapped with for alleged improprieties of conduct during his time in office.',\n",
       " 'The latest voting suggests that his popularity among conservatives has not dwindled much; contrarily, he appears to be their candidate of choice more than in previous elections.',\n",
       " 'The Iowa caucuses surveys suggest that nearly 50% of Republican considered themselves to be members of Mr. Trump’s “Make America Great Again” movement, and the breadth of his victory included older and younger age cohorts, men and women, and far-right and evangelical caucus-goers.',\n",
       " 'Reports from Iowa indicate that nearly 90% among this group believed the Trump campaign falsehoods that the 2020 election was “stolen” and thus tend to overlook federal and state charges that he faces relating to the January 6, 2021 attack on the U.S. Capitol and election interference in Georgia.',\n",
       " 'An early assessment of Mr. Trump’s overall position suggests that he would be well placed to win his party’s nomination and perhaps successfully challenge his Democratic rival, incumbent Joe Biden, in November.',\n",
       " 'Whether this will be a positive development favouring the U.S.’s long-term national interest is an entirely different']"
      ]
     },
     "execution_count": 49,
     "metadata": {},
     "output_type": "execute_result"
    }
   ],
   "source": [
    "my_review= nltk.sent_tokenize(sentence)\n",
    "my_review"
   ]
  },
  {
   "cell_type": "code",
   "execution_count": 50,
   "id": "fcca8acb",
   "metadata": {},
   "outputs": [
    {
     "data": {
      "text/plain": [
       "['Former U.S. President Donald Trump established significant lead Republican Party candidate first formal event election season , Iowa caucus .',\n",
       " 'This put pole position Republican nominee November 2024 presidential election , even though nomination process state-level primary caucus usually hard-fought produce surprise outcome .',\n",
       " 'While 45th President scooped 20 delegate Iowa , far ahead nine delegate Florida Governor Ron DeSantis eight delegate former South Carolina Governor Nikki Haley , order win Party ’ nomination candidate would require total 1,215 delegate .',\n",
       " 'Meanwhile , next Republican presidential debate cancelled Ms. Haley declined appear stage unless Mr. Trump participates , something refused far .',\n",
       " 'Indeed , Ms. Haley perhaps represents greatest possibility posing challenge Mr. Trump , next Republican contest New Hampshire , swing state , best opportunity dent momentum .',\n",
       " 'The state white rural population nearly 40 % electorate comprised independent voter may prefer moderate candidate Mr. Trump .',\n",
       " 'Regardless twist fate might lie ahead three candidate Republican primary , clear Iowa result Mr. Trump bounced back consider political embarrassment legal quagmire four indictment slapped alleged impropriety conduct time office .',\n",
       " 'The latest voting suggests popularity among conservative dwindled much ; contrarily , appears candidate choice previous election .',\n",
       " 'The Iowa caucus survey suggest nearly 50 % Republican considered member Mr. Trump ’ “ Make America Great Again ” movement , breadth victory included older younger age cohort , men woman , far-right evangelical caucus-goers .',\n",
       " 'Reports Iowa indicate nearly 90 % among group believed Trump campaign falsehood 2020 election “ stolen ” thus tend overlook federal state charge face relating January 6 , 2021 attack U.S. Capitol election interference Georgia .',\n",
       " 'An early assessment Mr. Trump ’ overall position suggests would well placed win party ’ nomination perhaps successfully challenge Democratic rival , incumbent Joe Biden , November .',\n",
       " 'Whether positive development favouring U.S. ’ long-term national interest entirely different']"
      ]
     },
     "execution_count": 50,
     "metadata": {},
     "output_type": "execute_result"
    }
   ],
   "source": [
    "# applying stopwords to remove and then lamm\n",
    "\n",
    "for i in range(len(my_review)):\n",
    "    words= nltk.word_tokenize(my_review[i])\n",
    "    words= [lemm.lemmatize(word) for word in words if word not in set(stopwords.words('english'))]\n",
    "    my_review[i]= ' '.join(words)\n",
    "\n",
    "my_review"
   ]
  },
  {
   "cell_type": "markdown",
   "id": "382c0723",
   "metadata": {},
   "source": [
    "## Bag of Words"
   ]
  },
  {
   "cell_type": "code",
   "execution_count": 51,
   "id": "ae32ee0c",
   "metadata": {},
   "outputs": [],
   "source": [
    "my_review= nltk.sent_tokenize(sentence)"
   ]
  },
  {
   "cell_type": "code",
   "execution_count": 52,
   "id": "d5148321",
   "metadata": {},
   "outputs": [],
   "source": [
    "import re\n",
    "from nltk.corpus import stopwords\n",
    "from nltk.stem import WordNetLemmatizer\n",
    "\n",
    "lemm= WordNetLemmatizer()"
   ]
  },
  {
   "cell_type": "markdown",
   "id": "c5432809",
   "metadata": {},
   "source": [
    "### Preprocessing"
   ]
  },
  {
   "cell_type": "code",
   "execution_count": 53,
   "id": "2a772a6e",
   "metadata": {},
   "outputs": [
    {
     "data": {
      "text/plain": [
       "['former u.s. president donald trump established significant lead republican party candidate first formal event election season, iowa caucus ',\n",
       " 'put pole position republican nominee november 2024 presidential election, even though nomination process state-level primary caucus usually hard-fought produce surprise outcome ',\n",
       " '45th president scooped 20 delegate iowa, far ahead nine delegate florida governor ron desantis eight delegate former south carolina governor nikki haley, order win party’s nomination candidate would require total 1,215 delegate ',\n",
       " 'meanwhile, next republican presidential debate cancelled ms. haley declined appear stage unless mr. trump participates too, something refused far ',\n",
       " 'indeed, ms. haley perhaps represents greatest possibility posing challenge mr. trump, next republican contest new hampshire, swing state, best opportunity dent momentum ',\n",
       " 'state white rural population nearly 40% electorate comprised independent voter may prefer moderate candidate mr. trump ',\n",
       " 'regardless twist fate might lie ahead three candidate republican primaries, clear iowa result mr. trump bounced back consider political embarrassment legal quagmire four indictment slapped alleged impropriety conduct time office ',\n",
       " 'latest voting suggests popularity among conservative dwindled much; contrarily, appears candidate choice previous election ',\n",
       " 'iowa caucus survey suggest nearly 50% republican considered member mr. trump’s “make america great again” movement, breadth victory included older younger age cohorts, men women, far-right evangelical caucus-goers ',\n",
       " 'report iowa indicate nearly 90% among group believed trump campaign falsehood 2020 election “stolen” thus tend overlook federal state charge face relating january 6, 2021 attack u.s. capitol election interference georgia ',\n",
       " 'early assessment mr. trump’s overall position suggests would well placed win party’s nomination perhaps successfully challenge democratic rival, incumbent joe biden, november ',\n",
       " 'whether positive development favouring u.s.’s long-term national interest entirely different']"
      ]
     },
     "execution_count": 53,
     "metadata": {},
     "output_type": "execute_result"
    }
   ],
   "source": [
    "corpus= []\n",
    "for i in range(len(my_review)):\n",
    "    review= re.sub('[^a-zA-Z]+$',' ', my_review[i])\n",
    "    review= review.lower()\n",
    "    review= [lemm.lemmatize(word) for word in review.split(' ') if word not in set(stopwords.words('english'))]\n",
    "    review= ' '.join(review)\n",
    "    corpus.append(review)\n",
    "    \n",
    "corpus"
   ]
  },
  {
   "cell_type": "markdown",
   "id": "d3734baf",
   "metadata": {},
   "source": [
    "## Building Bag of words model"
   ]
  },
  {
   "cell_type": "code",
   "execution_count": 54,
   "id": "3f291fdb",
   "metadata": {},
   "outputs": [],
   "source": [
    "from sklearn.feature_extraction.text import CountVectorizer"
   ]
  },
  {
   "cell_type": "code",
   "execution_count": 55,
   "id": "700cfc7a",
   "metadata": {},
   "outputs": [],
   "source": [
    "cv= CountVectorizer(max_features=500)\n",
    "x= cv.fit_transform(corpus).toarray()"
   ]
  },
  {
   "cell_type": "code",
   "execution_count": 56,
   "id": "2aa62980",
   "metadata": {},
   "outputs": [
    {
     "data": {
      "text/html": [
       "<div>\n",
       "<style scoped>\n",
       "    .dataframe tbody tr th:only-of-type {\n",
       "        vertical-align: middle;\n",
       "    }\n",
       "\n",
       "    .dataframe tbody tr th {\n",
       "        vertical-align: top;\n",
       "    }\n",
       "\n",
       "    .dataframe thead th {\n",
       "        text-align: right;\n",
       "    }\n",
       "</style>\n",
       "<table border=\"1\" class=\"dataframe\">\n",
       "  <thead>\n",
       "    <tr style=\"text-align: right;\">\n",
       "      <th></th>\n",
       "      <th>0</th>\n",
       "      <th>1</th>\n",
       "      <th>2</th>\n",
       "      <th>3</th>\n",
       "      <th>4</th>\n",
       "      <th>5</th>\n",
       "      <th>6</th>\n",
       "      <th>7</th>\n",
       "      <th>8</th>\n",
       "      <th>9</th>\n",
       "      <th>...</th>\n",
       "      <th>191</th>\n",
       "      <th>192</th>\n",
       "      <th>193</th>\n",
       "      <th>194</th>\n",
       "      <th>195</th>\n",
       "      <th>196</th>\n",
       "      <th>197</th>\n",
       "      <th>198</th>\n",
       "      <th>199</th>\n",
       "      <th>200</th>\n",
       "    </tr>\n",
       "  </thead>\n",
       "  <tbody>\n",
       "    <tr>\n",
       "      <th>0</th>\n",
       "      <td>0</td>\n",
       "      <td>0</td>\n",
       "      <td>0</td>\n",
       "      <td>0</td>\n",
       "      <td>0</td>\n",
       "      <td>0</td>\n",
       "      <td>0</td>\n",
       "      <td>0</td>\n",
       "      <td>0</td>\n",
       "      <td>0</td>\n",
       "      <td>...</td>\n",
       "      <td>0</td>\n",
       "      <td>0</td>\n",
       "      <td>0</td>\n",
       "      <td>0</td>\n",
       "      <td>0</td>\n",
       "      <td>0</td>\n",
       "      <td>0</td>\n",
       "      <td>0</td>\n",
       "      <td>0</td>\n",
       "      <td>0</td>\n",
       "    </tr>\n",
       "    <tr>\n",
       "      <th>1</th>\n",
       "      <td>0</td>\n",
       "      <td>0</td>\n",
       "      <td>0</td>\n",
       "      <td>1</td>\n",
       "      <td>0</td>\n",
       "      <td>0</td>\n",
       "      <td>0</td>\n",
       "      <td>0</td>\n",
       "      <td>0</td>\n",
       "      <td>0</td>\n",
       "      <td>...</td>\n",
       "      <td>0</td>\n",
       "      <td>0</td>\n",
       "      <td>0</td>\n",
       "      <td>0</td>\n",
       "      <td>0</td>\n",
       "      <td>0</td>\n",
       "      <td>0</td>\n",
       "      <td>0</td>\n",
       "      <td>0</td>\n",
       "      <td>0</td>\n",
       "    </tr>\n",
       "    <tr>\n",
       "      <th>2</th>\n",
       "      <td>1</td>\n",
       "      <td>0</td>\n",
       "      <td>0</td>\n",
       "      <td>0</td>\n",
       "      <td>1</td>\n",
       "      <td>0</td>\n",
       "      <td>1</td>\n",
       "      <td>0</td>\n",
       "      <td>0</td>\n",
       "      <td>0</td>\n",
       "      <td>...</td>\n",
       "      <td>0</td>\n",
       "      <td>0</td>\n",
       "      <td>0</td>\n",
       "      <td>0</td>\n",
       "      <td>0</td>\n",
       "      <td>0</td>\n",
       "      <td>1</td>\n",
       "      <td>0</td>\n",
       "      <td>1</td>\n",
       "      <td>0</td>\n",
       "    </tr>\n",
       "    <tr>\n",
       "      <th>3</th>\n",
       "      <td>0</td>\n",
       "      <td>0</td>\n",
       "      <td>0</td>\n",
       "      <td>0</td>\n",
       "      <td>0</td>\n",
       "      <td>0</td>\n",
       "      <td>0</td>\n",
       "      <td>0</td>\n",
       "      <td>0</td>\n",
       "      <td>0</td>\n",
       "      <td>...</td>\n",
       "      <td>0</td>\n",
       "      <td>0</td>\n",
       "      <td>0</td>\n",
       "      <td>0</td>\n",
       "      <td>0</td>\n",
       "      <td>0</td>\n",
       "      <td>0</td>\n",
       "      <td>0</td>\n",
       "      <td>0</td>\n",
       "      <td>0</td>\n",
       "    </tr>\n",
       "    <tr>\n",
       "      <th>4</th>\n",
       "      <td>0</td>\n",
       "      <td>0</td>\n",
       "      <td>0</td>\n",
       "      <td>0</td>\n",
       "      <td>0</td>\n",
       "      <td>0</td>\n",
       "      <td>0</td>\n",
       "      <td>0</td>\n",
       "      <td>0</td>\n",
       "      <td>0</td>\n",
       "      <td>...</td>\n",
       "      <td>0</td>\n",
       "      <td>0</td>\n",
       "      <td>0</td>\n",
       "      <td>0</td>\n",
       "      <td>0</td>\n",
       "      <td>0</td>\n",
       "      <td>0</td>\n",
       "      <td>0</td>\n",
       "      <td>0</td>\n",
       "      <td>0</td>\n",
       "    </tr>\n",
       "  </tbody>\n",
       "</table>\n",
       "<p>5 rows × 201 columns</p>\n",
       "</div>"
      ],
      "text/plain": [
       "   0    1    2    3    4    5    6    7    8    9    ...  191  192  193  194  \\\n",
       "0    0    0    0    0    0    0    0    0    0    0  ...    0    0    0    0   \n",
       "1    0    0    0    1    0    0    0    0    0    0  ...    0    0    0    0   \n",
       "2    1    0    0    0    1    0    1    0    0    0  ...    0    0    0    0   \n",
       "3    0    0    0    0    0    0    0    0    0    0  ...    0    0    0    0   \n",
       "4    0    0    0    0    0    0    0    0    0    0  ...    0    0    0    0   \n",
       "\n",
       "   195  196  197  198  199  200  \n",
       "0    0    0    0    0    0    0  \n",
       "1    0    0    0    0    0    0  \n",
       "2    0    0    1    0    1    0  \n",
       "3    0    0    0    0    0    0  \n",
       "4    0    0    0    0    0    0  \n",
       "\n",
       "[5 rows x 201 columns]"
      ]
     },
     "execution_count": 56,
     "metadata": {},
     "output_type": "execute_result"
    }
   ],
   "source": [
    "import pandas as pd\n",
    "\n",
    "df= pd.DataFrame(x)\n",
    "# SPARSE MATRIX\n",
    "df.head()"
   ]
  },
  {
   "cell_type": "code",
   "execution_count": 57,
   "id": "e42fc717",
   "metadata": {},
   "outputs": [
    {
     "data": {
      "text/plain": [
       "(12, 201)"
      ]
     },
     "execution_count": 57,
     "metadata": {},
     "output_type": "execute_result"
    }
   ],
   "source": [
    "df.shape"
   ]
  },
  {
   "cell_type": "markdown",
   "id": "b55ea8f7",
   "metadata": {},
   "source": [
    "## Text to Speech"
   ]
  },
  {
   "cell_type": "code",
   "execution_count": 58,
   "id": "c12fdfca",
   "metadata": {},
   "outputs": [
    {
     "data": {
      "text/plain": [
       "'C:\\\\Users\\\\Arvind Vasa\\\\AI-ML\\\\NLP'"
      ]
     },
     "execution_count": 58,
     "metadata": {},
     "output_type": "execute_result"
    }
   ],
   "source": [
    "import os\n",
    "os.getcwd()"
   ]
  },
  {
   "cell_type": "code",
   "execution_count": 2,
   "id": "a735d0dd",
   "metadata": {},
   "outputs": [
    {
     "name": "stdout",
     "output_type": "stream",
     "text": [
      "Requirement already satisfied: gTTS in c:\\users\\arvind vasa\\anaconda3\\lib\\site-packages (2.5.0)\n",
      "Requirement already satisfied: click<8.2,>=7.1 in c:\\users\\arvind vasa\\anaconda3\\lib\\site-packages (from gTTS) (8.1.7)\n",
      "Requirement already satisfied: requests<3,>=2.27 in c:\\users\\arvind vasa\\anaconda3\\lib\\site-packages (from gTTS) (2.28.2)\n",
      "Requirement already satisfied: colorama in c:\\users\\arvind vasa\\anaconda3\\lib\\site-packages (from click<8.2,>=7.1->gTTS) (0.4.6)\n",
      "Requirement already satisfied: urllib3<1.27,>=1.21.1 in c:\\users\\arvind vasa\\anaconda3\\lib\\site-packages (from requests<3,>=2.27->gTTS) (1.26.18)\n",
      "Requirement already satisfied: idna<4,>=2.5 in c:\\users\\arvind vasa\\anaconda3\\lib\\site-packages (from requests<3,>=2.27->gTTS) (3.4)\n",
      "Requirement already satisfied: charset-normalizer<4,>=2 in c:\\users\\arvind vasa\\anaconda3\\lib\\site-packages (from requests<3,>=2.27->gTTS) (2.0.4)\n",
      "Requirement already satisfied: certifi>=2017.4.17 in c:\\users\\arvind vasa\\anaconda3\\lib\\site-packages (from requests<3,>=2.27->gTTS) (2023.11.17)\n"
     ]
    }
   ],
   "source": [
    "!pip install gTTS\n",
    "# google text to speech"
   ]
  },
  {
   "cell_type": "code",
   "execution_count": 3,
   "id": "2993d7e7",
   "metadata": {},
   "outputs": [],
   "source": [
    "from gtts import gTTS"
   ]
  },
  {
   "cell_type": "code",
   "execution_count": null,
   "id": "ba288c4f",
   "metadata": {},
   "outputs": [],
   "source": []
  }
 ],
 "metadata": {
  "kernelspec": {
   "display_name": "Python 3 (ipykernel)",
   "language": "python",
   "name": "python3"
  },
  "language_info": {
   "codemirror_mode": {
    "name": "ipython",
    "version": 3
   },
   "file_extension": ".py",
   "mimetype": "text/x-python",
   "name": "python",
   "nbconvert_exporter": "python",
   "pygments_lexer": "ipython3",
   "version": "3.10.13"
  }
 },
 "nbformat": 4,
 "nbformat_minor": 5
}
